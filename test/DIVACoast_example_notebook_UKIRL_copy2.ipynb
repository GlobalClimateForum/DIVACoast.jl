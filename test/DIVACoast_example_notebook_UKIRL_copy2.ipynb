{
 "cells": [
  {
   "cell_type": "code",
   "execution_count": null,
   "metadata": {},
   "outputs": [],
   "source": [
    "run(`git clone https://github.com/GlobalClimateForum/DIVACoast.jl.git`)"
   ]
  },
  {
   "cell_type": "code",
   "execution_count": null,
   "metadata": {},
   "outputs": [],
   "source": [
    "cd(\"DIVACoast.jl\") \n",
    "pwd()"
   ]
  },
  {
   "cell_type": "markdown",
   "metadata": {},
   "source": [
    "Import packages"
   ]
  },
  {
   "cell_type": "code",
   "execution_count": null,
   "metadata": {},
   "outputs": [],
   "source": [
    "using Pkg\n",
    "Pkg.add(\"Statistics\")\n",
    "Pkg.instantiate()"
   ]
  },
  {
   "cell_type": "markdown",
   "metadata": {},
   "source": [
    "Load DIVACoast package"
   ]
  },
  {
   "cell_type": "code",
   "execution_count": null,
   "metadata": {},
   "outputs": [
    {
     "name": "stderr",
     "output_type": "stream",
     "text": [
      "\u001b[32m\u001b[1m  Activating\u001b[22m\u001b[39m project at `c:\\Users\\voelz\\Documents\\DIVA\\DIVACoast`\n"
     ]
    },
    {
     "name": "stdout",
     "output_type": "stream",
     "text": [
      "┌                                       ┐\n",
      "│ DIVACoast.jl | © GLOBAL CLIMATE FORUM │\n",
      "└                                       ┘\n"
     ]
    },
    {
     "name": "stderr",
     "output_type": "stream",
     "text": [
      "WARNING: using Plots.coords in module DIVACoast conflicts with an existing identifier.\n",
      "WARNING: using DataFrames.metadata in module DIVACoast conflicts with an existing identifier.\n",
      "WARNING: using FileIO.metadata in module DIVACoast conflicts with an existing identifier.\n"
     ]
    }
   ],
   "source": [
    "include(\"src/DIVACoast.jl\")\n",
    "using .DIVACoast\n",
    "using Printf\n",
    "using Plots\n",
    "\n",
    "Base.show(io::IO, f::Float64) = @printf(io, \"%.2f\", f)\n",
    "Base.show(io::IO, f::Float32) = @printf(io, \"%.2f\", f)\n",
    "cd(@__DIR__)"
   ]
  },
  {
   "cell_type": "markdown",
   "metadata": {},
   "source": [
    "Load the hypsometric profiles for each segment in the UK and Ireland \n",
    "\n",
    "(They are precomputed and saved in the file \"UKIRL_hspfs_floodplains.nc\")"
   ]
  },
  {
   "cell_type": "code",
   "execution_count": null,
   "metadata": {},
   "outputs": [
    {
     "data": {
      "text/html": [
       "<table>\n",
       "  <caption style = \"text-align: left;\">2733×2 GeoTable over 2733 GeometrySet</caption>\n",
       "  <thead>\n",
       "    <tr class = \"header\">\n",
       "      <th style = \"text-align: center;\">floodplain_id</th>\n",
       "      <th style = \"text-align: center;\">geometry</th>\n",
       "    </tr>\n",
       "    <tr class = \"subheader\">\n",
       "      <th style = \"text-align: center;\">Categorical</th>\n",
       "      <th style = \"text-align: center;\">PolyArea</th>\n",
       "    </tr>\n",
       "    <tr class = \"subheader headerLastRow\">\n",
       "      <th style = \"text-align: center;\">[NoUnits]</th>\n",
       "      <th style = \"text-align: center;\">🖈 Cartesian{NoDatum}</th>\n",
       "    </tr>\n",
       "  </thead>\n",
       "  <tbody>\n",
       "    <tr>\n",
       "      <td style = \"text-align: center;\">0</td>\n",
       "      <td style = \"text-align: center;\">PolyArea(36-Ring, 6-Ring)</td>\n",
       "    </tr>\n",
       "    <tr>\n",
       "      <td style = \"text-align: center;\">1</td>\n",
       "      <td style = \"text-align: center;\">PolyArea((x: -1.26 m, y: 59.98 m), ..., (x: -1.26 m, y: 59.98 m))</td>\n",
       "    </tr>\n",
       "    <tr>\n",
       "      <td style = \"text-align: center;\">2</td>\n",
       "      <td style = \"text-align: center;\">PolyArea(106-Ring, 4-Ring, 4-Ring, 4-Ring, 4-Ring, 4-Ring)</td>\n",
       "    </tr>\n",
       "    <tr>\n",
       "      <td style = \"text-align: center;\">3</td>\n",
       "      <td style = \"text-align: center;\">PolyArea((x: -1.29 m, y: 59.92 m), ..., (x: -1.29 m, y: 59.92 m))</td>\n",
       "    </tr>\n",
       "    <tr>\n",
       "      <td style = \"text-align: center;\">4</td>\n",
       "      <td style = \"text-align: center;\">PolyArea(66-Ring, 4-Ring, 4-Ring, 4-Ring, 4-Ring, 4-Ring, 4-Ring, 4-Ring, 4-Ring, 4-Ring)</td>\n",
       "    </tr>\n",
       "    <tr>\n",
       "      <td style = \"text-align: center;\">5</td>\n",
       "      <td style = \"text-align: center;\">PolyArea((x: -1.28 m, y: 59.88 m), ..., (x: -1.28 m, y: 59.88 m))</td>\n",
       "    </tr>\n",
       "    <tr>\n",
       "      <td style = \"text-align: center;\">7</td>\n",
       "      <td style = \"text-align: center;\">PolyArea(90-Ring, 4-Ring)</td>\n",
       "    </tr>\n",
       "    <tr>\n",
       "      <td style = \"text-align: center;\">10</td>\n",
       "      <td style = \"text-align: center;\">PolyArea((x: -2.93 m, y: 59.36 m), ..., (x: -2.93 m, y: 59.36 m))</td>\n",
       "    </tr>\n",
       "    <tr>\n",
       "      <td style = \"text-align: center;\">6</td>\n",
       "      <td style = \"text-align: center;\">PolyArea(264-Ring, 4-Ring)</td>\n",
       "    </tr>\n",
       "    <tr>\n",
       "      <td style = \"text-align: center;\">8</td>\n",
       "      <td style = \"text-align: center;\">PolyArea((x: -2.95 m, y: 59.36 m), ..., (x: -2.95 m, y: 59.36 m))</td>\n",
       "    </tr>\n",
       "    <tr>\n",
       "      <td style = \"text-align: right;\">&vellip;</td>\n",
       "      <td style = \"text-align: right;\">&vellip;</td>\n",
       "    </tr>\n",
       "  </tbody>\n",
       "</table>\n"
      ],
      "text/plain": [
       "\u001b[1m2733×2 GeoTable over 2733 GeometrySet\u001b[0m\n",
       "┌───────────────┬───────────────────────────────────────────────────────────────\n",
       "│\u001b[35;1m floodplain_id \u001b[0m│\u001b[38;2;0;128;128;1m                                         geometry            \u001b[0m ⋯\n",
       "│\u001b[90m  Categorical  \u001b[0m│\u001b[90m                                         PolyArea            \u001b[0m ⋯\n",
       "│\u001b[90m   [NoUnits]   \u001b[0m│\u001b[90m                                   🖈 Cartesian{NoDatum}      \u001b[0m ⋯\n",
       "├───────────────┼───────────────────────────────────────────────────────────────\n",
       "│       0       │                                 PolyArea(36-Ring, 6-Ring)    ⋯\n",
       "│       1       │             PolyArea((x: -1.26 m, y: 59.98 m), ..., (x: -1.2 ⋯\n",
       "│       2       │                PolyArea(106-Ring, 4-Ring, 4-Ring, 4-Ring, 4- ⋯\n",
       "│       3       │             PolyArea((x: -1.29 m, y: 59.92 m), ..., (x: -1.2 ⋯\n",
       "│       4       │ PolyArea(66-Ring, 4-Ring, 4-Ring, 4-Ring, 4-Ring, 4-Ring, 4- ⋯\n",
       "│       5       │             PolyArea((x: -1.28 m, y: 59.88 m), ..., (x: -1.2 ⋯\n",
       "│       7       │                                 PolyArea(90-Ring, 4-Ring)    ⋯\n",
       "│      10       │             PolyArea((x: -2.93 m, y: 59.36 m), ..., (x: -2.9 ⋯\n",
       "│       6       │                                PolyArea(264-Ring, 4-Ring)    ⋯\n",
       "│       8       │             PolyArea((x: -2.95 m, y: 59.36 m), ..., (x: -2.9 ⋯\n",
       "│      12       │             PolyArea((x: -2.96 m, y: 59.35 m), ..., (x: -2.9 ⋯\n",
       "│       9       │             PolyArea((x: -2.90 m, y: 59.36 m), ..., (x: -2.9 ⋯\n",
       "│      11       │             PolyArea((x: -2.89 m, y: 59.35 m), ..., (x: -2.8 ⋯\n",
       "│      13       │             PolyArea((x: -2.96 m, y: 59.34 m), ..., (x: -2.9 ⋯\n",
       "│       ⋮       │                                             ⋮                ⋱\n",
       "└───────────────┴───────────────────────────────────────────────────────────────\n",
       "\u001b[36m                                                  1 column and 2719 rows omitted\u001b[0m"
      ]
     },
     "metadata": {},
     "output_type": "display_data"
    }
   ],
   "source": [
    "hspfs = load_hsps_nc(Int32, Float32, \"testdata/UKIRL/nc/UKIRL_hspfs_floodplains.nc\")"
   ]
  },
  {
   "cell_type": "markdown",
   "metadata": {},
   "source": [
    "We choose the hypsometric profile of a specific floodplain \n",
    "\n",
    "(We can visually inspect which floodplain we want to choose by opening \"../testdata/UKIRL/gpkg/UKIRL_merit_coastplain_lecz_H100+2m_GADM1_partitioned.gpkg\", for example in QGIS, and identify the floodplain ID \"fpid\")\n"
   ]
  },
  {
   "cell_type": "code",
   "execution_count": null,
   "metadata": {},
   "outputs": [
    {
     "data": {
      "text/plain": [
       "HypsometricProfile{Float32}(78.31, \"km\", Float32[-5.00, -4.90, -4.80, -4.70, -4.60, -4.50, -4.40, -4.30, -4.20, -4.10  …  19.10, 19.20, 19.30, 19.40, 19.50, 19.60, 19.70, 19.80, 19.90, 20.00], \"m\", Float32[0.00, 0.12, 0.13, 0.15, 0.15, 0.15, 0.15, 0.16, 0.16, 0.17  …  674.23, 678.82, 683.10, 687.52, 691.53, 695.42, 699.08, 702.48, 706.54, 710.52], \"km^2\", Matrix{Float32}(undef, 251, 0), (), String[], Float32[0.00 0.00; 45.04 6728625.50; … ; 3536871.00 521768796160.00; 3558934.50 524979568640.00], (:population, :assets), [\"\", \"\"], true)"
      ]
     },
     "metadata": {},
     "output_type": "display_data"
    }
   ],
   "source": [
    "london = hspfs[2474]"
   ]
  },
  {
   "cell_type": "markdown",
   "metadata": {},
   "source": [
    "Plot the hypsometric profile of London"
   ]
  },
  {
   "cell_type": "code",
   "execution_count": 50,
   "metadata": {},
   "outputs": [
    {
     "data": {
      "image/png": "[encoded data removed]",
      "image/svg+xml": [
       "<?xml version=\"1.0\" encoding=\"utf-8\"?>\n",
       "<svg xmlns=\"http://www.w3.org/2000/svg\" xmlns:xlink=\"http://www.w3.org/1999/xlink\" width=\"600\" height=\"400\" viewBox=\"0 0 2400 1600\">\n",
       "<defs>\n",
       "  <clipPath id=\"clip260\">\n",
       "    <rect x=\"0\" y=\"0\" width=\"2400\" height=\"1600\"/>\n",
       "  </clipPath>\n",
       "</defs>\n",
       "<path clip-path=\"url(#clip260)\" d=\"M0 1600 L2400 1600 L2400 0 L0 0  Z\" fill=\"#ffffff\" fill-rule=\"evenodd\" fill-opacity=\"1\"/>\n",
       "<defs>\n",
       "  <clipPath id=\"clip261\">\n",
       "    <rect x=\"480\" y=\"0\" width=\"1681\" height=\"1600\"/>\n",
       "  </clipPath>\n",
       "</defs>\n",
       "<path clip-path=\"url(#clip260)\" d=\"M210.977 1423.18 L2352.76 1423.18 L2352.76 47.2441 L210.977 47.2441  Z\" fill=\"#ffffff\" fill-rule=\"evenodd\" fill-opacity=\"1\"/>\n",
       "<defs>\n",
       "  <clipPath id=\"clip262\">\n",
       "    <rect x=\"210\" y=\"47\" width=\"2143\" height=\"1377\"/>\n",
       "  </clipPath>\n",
       "</defs>\n",
       "<polyline clip-path=\"url(#clip262)\" style=\"stroke:#000000; stroke-linecap:round; stroke-linejoin:round; stroke-width:2; stroke-opacity:0.1; fill:none\" points=\"271.594,1423.18 271.594,47.2441 \"/>\n",
       "<polyline clip-path=\"url(#clip262)\" style=\"stroke:#000000; stroke-linecap:round; stroke-linejoin:round; stroke-width:2; stroke-opacity:0.1; fill:none\" points=\"716.97,1423.18 716.97,47.2441 \"/>\n",
       "<polyline clip-path=\"url(#clip262)\" style=\"stroke:#000000; stroke-linecap:round; stroke-linejoin:round; stroke-width:2; stroke-opacity:0.1; fill:none\" points=\"1162.35,1423.18 1162.35,47.2441 \"/>\n",
       "<polyline clip-path=\"url(#clip262)\" style=\"stroke:#000000; stroke-linecap:round; stroke-linejoin:round; stroke-width:2; stroke-opacity:0.1; fill:none\" points=\"1607.72,1423.18 1607.72,47.2441 \"/>\n",
       "<polyline clip-path=\"url(#clip262)\" style=\"stroke:#000000; stroke-linecap:round; stroke-linejoin:round; stroke-width:2; stroke-opacity:0.1; fill:none\" points=\"2053.1,1423.18 2053.1,47.2441 \"/>\n",
       "<polyline clip-path=\"url(#clip262)\" style=\"stroke:#000000; stroke-linecap:round; stroke-linejoin:round; stroke-width:2; stroke-opacity:0.1; fill:none\" points=\"210.977,1384.24 2352.76,1384.24 \"/>\n",
       "<polyline clip-path=\"url(#clip262)\" style=\"stroke:#000000; stroke-linecap:round; stroke-linejoin:round; stroke-width:2; stroke-opacity:0.1; fill:none\" points=\"210.977,1124.63 2352.76,1124.63 \"/>\n",
       "<polyline clip-path=\"url(#clip262)\" style=\"stroke:#000000; stroke-linecap:round; stroke-linejoin:round; stroke-width:2; stroke-opacity:0.1; fill:none\" points=\"210.977,865.017 2352.76,865.017 \"/>\n",
       "<polyline clip-path=\"url(#clip262)\" style=\"stroke:#000000; stroke-linecap:round; stroke-linejoin:round; stroke-width:2; stroke-opacity:0.1; fill:none\" points=\"210.977,605.407 2352.76,605.407 \"/>\n",
       "<polyline clip-path=\"url(#clip262)\" style=\"stroke:#000000; stroke-linecap:round; stroke-linejoin:round; stroke-width:2; stroke-opacity:0.1; fill:none\" points=\"210.977,345.796 2352.76,345.796 \"/>\n",
       "<polyline clip-path=\"url(#clip262)\" style=\"stroke:#000000; stroke-linecap:round; stroke-linejoin:round; stroke-width:2; stroke-opacity:0.1; fill:none\" points=\"210.977,86.1857 2352.76,86.1857 \"/>\n",
       "<polyline clip-path=\"url(#clip260)\" style=\"stroke:#000000; stroke-linecap:round; stroke-linejoin:round; stroke-width:4; stroke-opacity:1; fill:none\" points=\"210.977,1423.18 2352.76,1423.18 \"/>\n",
       "<polyline clip-path=\"url(#clip260)\" style=\"stroke:#000000; stroke-linecap:round; stroke-linejoin:round; stroke-width:4; stroke-opacity:1; fill:none\" points=\"271.594,1423.18 271.594,1404.28 \"/>\n",
       "<polyline clip-path=\"url(#clip260)\" style=\"stroke:#000000; stroke-linecap:round; stroke-linejoin:round; stroke-width:4; stroke-opacity:1; fill:none\" points=\"716.97,1423.18 716.97,1404.28 \"/>\n",
       "<polyline clip-path=\"url(#clip260)\" style=\"stroke:#000000; stroke-linecap:round; stroke-linejoin:round; stroke-width:4; stroke-opacity:1; fill:none\" points=\"1162.35,1423.18 1162.35,1404.28 \"/>\n",
       "<polyline clip-path=\"url(#clip260)\" style=\"stroke:#000000; stroke-linecap:round; stroke-linejoin:round; stroke-width:4; stroke-opacity:1; fill:none\" points=\"1607.72,1423.18 1607.72,1404.28 \"/>\n",
       "<polyline clip-path=\"url(#clip260)\" style=\"stroke:#000000; stroke-linecap:round; stroke-linejoin:round; stroke-width:4; stroke-opacity:1; fill:none\" points=\"2053.1,1423.18 2053.1,1404.28 \"/>\n",
       "<path clip-path=\"url(#clip260)\" d=\"M271.594 1454.1 Q267.983 1454.1 266.154 1457.66 Q264.348 1461.2 264.348 1468.33 Q264.348 1475.44 266.154 1479.01 Q267.983 1482.55 271.594 1482.55 Q275.228 1482.55 277.034 1479.01 Q278.862 1475.44 278.862 1468.33 Q278.862 1461.2 277.034 1457.66 Q275.228 1454.1 271.594 1454.1 M271.594 1450.39 Q277.404 1450.39 280.459 1455 Q283.538 1459.58 283.538 1468.33 Q283.538 1477.06 280.459 1481.67 Q277.404 1486.25 271.594 1486.25 Q265.784 1486.25 262.705 1481.67 Q259.649 1477.06 259.649 1468.33 Q259.649 1459.58 262.705 1455 Q265.784 1450.39 271.594 1450.39 Z\" fill=\"#000000\" fill-rule=\"nonzero\" fill-opacity=\"1\" /><path clip-path=\"url(#clip260)\" d=\"M711.623 1481.64 L727.942 1481.64 L727.942 1485.58 L705.998 1485.58 L705.998 1481.64 Q708.66 1478.89 713.243 1474.26 Q717.85 1469.61 719.03 1468.27 Q721.276 1465.74 722.155 1464.01 Q723.058 1462.25 723.058 1460.56 Q723.058 1457.8 721.114 1456.07 Q719.192 1454.33 716.09 1454.33 Q713.891 1454.33 711.438 1455.09 Q709.007 1455.86 706.229 1457.41 L706.229 1452.69 Q709.053 1451.55 711.507 1450.97 Q713.961 1450.39 715.998 1450.39 Q721.368 1450.39 724.563 1453.08 Q727.757 1455.77 727.757 1460.26 Q727.757 1462.39 726.947 1464.31 Q726.16 1466.2 724.053 1468.8 Q723.475 1469.47 720.373 1472.69 Q717.271 1475.88 711.623 1481.64 Z\" fill=\"#000000\" fill-rule=\"nonzero\" fill-opacity=\"1\" /><path clip-path=\"url(#clip260)\" d=\"M1165.36 1455.09 L1153.55 1473.54 L1165.36 1473.54 L1165.36 1455.09 M1164.13 1451.02 L1170.01 1451.02 L1170.01 1473.54 L1174.94 1473.54 L1174.94 1477.43 L1170.01 1477.43 L1170.01 1485.58 L1165.36 1485.58 L1165.36 1477.43 L1149.75 1477.43 L1149.75 1472.92 L1164.13 1451.02 Z\" fill=\"#000000\" fill-rule=\"nonzero\" fill-opacity=\"1\" /><path clip-path=\"url(#clip260)\" d=\"M1608.13 1466.44 Q1604.98 1466.44 1603.13 1468.59 Q1601.3 1470.74 1601.3 1474.49 Q1601.3 1478.22 1603.13 1480.39 Q1604.98 1482.55 1608.13 1482.55 Q1611.28 1482.55 1613.1 1480.39 Q1614.96 1478.22 1614.96 1474.49 Q1614.96 1470.74 1613.1 1468.59 Q1611.28 1466.44 1608.13 1466.44 M1617.41 1451.78 L1617.41 1456.04 Q1615.65 1455.21 1613.85 1454.77 Q1612.06 1454.33 1610.3 1454.33 Q1605.67 1454.33 1603.22 1457.45 Q1600.79 1460.58 1600.44 1466.9 Q1601.81 1464.89 1603.87 1463.82 Q1605.93 1462.73 1608.41 1462.73 Q1613.61 1462.73 1616.62 1465.9 Q1619.66 1469.05 1619.66 1474.49 Q1619.66 1479.82 1616.51 1483.03 Q1613.36 1486.25 1608.13 1486.25 Q1602.13 1486.25 1598.96 1481.67 Q1595.79 1477.06 1595.79 1468.33 Q1595.79 1460.14 1599.68 1455.28 Q1603.57 1450.39 1610.12 1450.39 Q1611.88 1450.39 1613.66 1450.74 Q1615.47 1451.09 1617.41 1451.78 Z\" fill=\"#000000\" fill-rule=\"nonzero\" fill-opacity=\"1\" /><path clip-path=\"url(#clip260)\" d=\"M2053.1 1469.17 Q2049.77 1469.17 2047.84 1470.95 Q2045.95 1472.73 2045.95 1475.86 Q2045.95 1478.98 2047.84 1480.77 Q2049.77 1482.55 2053.1 1482.55 Q2056.43 1482.55 2058.35 1480.77 Q2060.27 1478.96 2060.27 1475.86 Q2060.27 1472.73 2058.35 1470.95 Q2056.46 1469.17 2053.1 1469.17 M2048.42 1467.18 Q2045.41 1466.44 2043.72 1464.38 Q2042.06 1462.32 2042.06 1459.35 Q2042.06 1455.21 2045 1452.8 Q2047.96 1450.39 2053.1 1450.39 Q2058.26 1450.39 2061.2 1452.8 Q2064.14 1455.21 2064.14 1459.35 Q2064.14 1462.32 2062.45 1464.38 Q2060.78 1466.44 2057.8 1467.18 Q2061.18 1467.96 2063.05 1470.26 Q2064.95 1472.55 2064.95 1475.86 Q2064.95 1480.88 2061.87 1483.57 Q2058.82 1486.25 2053.1 1486.25 Q2047.38 1486.25 2044.3 1483.57 Q2041.25 1480.88 2041.25 1475.86 Q2041.25 1472.55 2043.15 1470.26 Q2045.04 1467.96 2048.42 1467.18 M2046.71 1459.79 Q2046.71 1462.48 2048.38 1463.98 Q2050.07 1465.49 2053.1 1465.49 Q2056.11 1465.49 2057.8 1463.98 Q2059.51 1462.48 2059.51 1459.79 Q2059.51 1457.11 2057.8 1455.6 Q2056.11 1454.1 2053.1 1454.1 Q2050.07 1454.1 2048.38 1455.6 Q2046.71 1457.11 2046.71 1459.79 Z\" fill=\"#000000\" fill-rule=\"nonzero\" fill-opacity=\"1\" /><path clip-path=\"url(#clip260)\" d=\"M822.39 1525.81 L822.39 1562.76 L830.156 1562.76 Q839.991 1562.76 844.543 1558.3 Q849.126 1553.85 849.126 1544.24 Q849.126 1534.69 844.543 1530.26 Q839.991 1525.81 830.156 1525.81 L822.39 1525.81 M815.961 1520.52 L829.169 1520.52 Q842.983 1520.52 849.444 1526.28 Q855.905 1532.01 855.905 1544.24 Q855.905 1556.52 849.412 1562.28 Q842.919 1568.04 829.169 1568.04 L815.961 1568.04 L815.961 1520.52 Z\" fill=\"#000000\" fill-rule=\"nonzero\" fill-opacity=\"1\" /><path clip-path=\"url(#clip260)\" d=\"M865.9 1532.4 L871.756 1532.4 L871.756 1568.04 L865.9 1568.04 L865.9 1532.4 M865.9 1518.52 L871.756 1518.52 L871.756 1525.93 L865.9 1525.93 L865.9 1518.52 Z\" fill=\"#000000\" fill-rule=\"nonzero\" fill-opacity=\"1\" /><path clip-path=\"url(#clip260)\" d=\"M906.736 1533.45 L906.736 1538.98 Q904.253 1537.71 901.579 1537.07 Q898.906 1536.44 896.041 1536.44 Q891.681 1536.44 889.485 1537.77 Q887.32 1539.11 887.32 1541.79 Q887.32 1543.82 888.88 1545 Q890.439 1546.15 895.15 1547.2 L897.155 1547.64 Q903.394 1548.98 906.004 1551.43 Q908.645 1553.85 908.645 1558.21 Q908.645 1563.17 904.699 1566.07 Q900.784 1568.97 893.909 1568.97 Q891.044 1568.97 887.925 1568.39 Q884.838 1567.85 881.4 1566.74 L881.4 1560.69 Q884.647 1562.38 887.798 1563.24 Q890.949 1564.07 894.036 1564.07 Q898.174 1564.07 900.402 1562.66 Q902.63 1561.23 902.63 1558.65 Q902.63 1556.27 901.006 1554.99 Q899.415 1553.72 893.972 1552.54 L891.935 1552.07 Q886.493 1550.92 884.074 1548.56 Q881.655 1546.18 881.655 1542.04 Q881.655 1537.01 885.219 1534.27 Q888.784 1531.54 895.341 1531.54 Q898.587 1531.54 901.452 1532.01 Q904.317 1532.49 906.736 1533.45 Z\" fill=\"#000000\" fill-rule=\"nonzero\" fill-opacity=\"1\" /><path clip-path=\"url(#clip260)\" d=\"M923.764 1522.27 L923.764 1532.4 L935.827 1532.4 L935.827 1536.95 L923.764 1536.95 L923.764 1556.3 Q923.764 1560.66 924.941 1561.9 Q926.151 1563.14 929.811 1563.14 L935.827 1563.14 L935.827 1568.04 L929.811 1568.04 Q923.032 1568.04 920.454 1565.53 Q917.876 1562.98 917.876 1556.3 L917.876 1536.95 L913.579 1536.95 L913.579 1532.4 L917.876 1532.4 L917.876 1522.27 L923.764 1522.27 Z\" fill=\"#000000\" fill-rule=\"nonzero\" fill-opacity=\"1\" /><path clip-path=\"url(#clip260)\" d=\"M959.73 1550.12 Q952.632 1550.12 949.895 1551.75 Q947.158 1553.37 947.158 1557.29 Q947.158 1560.4 949.195 1562.25 Q951.264 1564.07 954.797 1564.07 Q959.666 1564.07 962.595 1560.63 Q965.555 1557.16 965.555 1551.43 L965.555 1550.12 L959.73 1550.12 M971.411 1547.71 L971.411 1568.04 L965.555 1568.04 L965.555 1562.63 Q963.55 1565.88 960.558 1567.44 Q957.566 1568.97 953.237 1568.97 Q947.763 1568.97 944.516 1565.91 Q941.301 1562.82 941.301 1557.67 Q941.301 1551.65 945.312 1548.6 Q949.354 1545.54 957.343 1545.54 L965.555 1545.54 L965.555 1544.97 Q965.555 1540.93 962.881 1538.73 Q960.239 1536.5 955.433 1536.5 Q952.378 1536.5 949.481 1537.23 Q946.585 1537.97 943.911 1539.43 L943.911 1534.02 Q947.126 1532.78 950.15 1532.17 Q953.173 1531.54 956.038 1531.54 Q963.772 1531.54 967.592 1535.55 Q971.411 1539.56 971.411 1547.71 Z\" fill=\"#000000\" fill-rule=\"nonzero\" fill-opacity=\"1\" /><path clip-path=\"url(#clip260)\" d=\"M1013.11 1546.53 L1013.11 1568.04 L1007.25 1568.04 L1007.25 1546.72 Q1007.25 1541.66 1005.28 1539.14 Q1003.3 1536.63 999.357 1536.63 Q994.614 1536.63 991.877 1539.65 Q989.14 1542.68 989.14 1547.9 L989.14 1568.04 L983.251 1568.04 L983.251 1532.4 L989.14 1532.4 L989.14 1537.93 Q991.24 1534.72 994.073 1533.13 Q996.938 1531.54 1000.66 1531.54 Q1006.8 1531.54 1009.96 1535.36 Q1013.11 1539.14 1013.11 1546.53 Z\" fill=\"#000000\" fill-rule=\"nonzero\" fill-opacity=\"1\" /><path clip-path=\"url(#clip260)\" d=\"M1050.44 1533.76 L1050.44 1539.24 Q1047.96 1537.87 1045.44 1537.2 Q1042.96 1536.5 1040.42 1536.5 Q1034.72 1536.5 1031.57 1540.13 Q1028.42 1543.73 1028.42 1550.25 Q1028.42 1556.78 1031.57 1560.4 Q1034.72 1564 1040.42 1564 Q1042.96 1564 1045.44 1563.33 Q1047.96 1562.63 1050.44 1561.26 L1050.44 1566.68 Q1047.99 1567.82 1045.35 1568.39 Q1042.74 1568.97 1039.78 1568.97 Q1031.73 1568.97 1026.98 1563.91 Q1022.24 1558.85 1022.24 1550.25 Q1022.24 1541.53 1027.02 1536.53 Q1031.82 1531.54 1040.16 1531.54 Q1042.87 1531.54 1045.44 1532.11 Q1048.02 1532.65 1050.44 1533.76 Z\" fill=\"#000000\" fill-rule=\"nonzero\" fill-opacity=\"1\" /><path clip-path=\"url(#clip260)\" d=\"M1091.12 1548.76 L1091.12 1551.62 L1064.19 1551.62 Q1064.57 1557.67 1067.82 1560.85 Q1071.1 1564 1076.92 1564 Q1080.3 1564 1083.45 1563.17 Q1086.63 1562.35 1089.75 1560.69 L1089.75 1566.23 Q1086.6 1567.57 1083.29 1568.27 Q1079.98 1568.97 1076.57 1568.97 Q1068.04 1568.97 1063.05 1564 Q1058.08 1559.04 1058.08 1550.57 Q1058.08 1541.82 1062.79 1536.69 Q1067.53 1531.54 1075.55 1531.54 Q1082.75 1531.54 1086.92 1536.18 Q1091.12 1540.8 1091.12 1548.76 M1085.26 1547.04 Q1085.2 1542.23 1082.56 1539.37 Q1079.95 1536.5 1075.62 1536.5 Q1070.72 1536.5 1067.76 1539.27 Q1064.83 1542.04 1064.38 1547.07 L1085.26 1547.04 Z\" fill=\"#000000\" fill-rule=\"nonzero\" fill-opacity=\"1\" /><path clip-path=\"url(#clip260)\" d=\"M1139.5 1518.52 L1139.5 1523.39 L1133.9 1523.39 Q1130.74 1523.39 1129.5 1524.66 Q1128.29 1525.93 1128.29 1529.24 L1128.29 1532.4 L1137.94 1532.4 L1137.94 1536.95 L1128.29 1536.95 L1128.29 1568.04 L1122.41 1568.04 L1122.41 1536.95 L1116.8 1536.95 L1116.8 1532.4 L1122.41 1532.4 L1122.41 1529.91 Q1122.41 1523.96 1125.17 1521.26 Q1127.94 1518.52 1133.96 1518.52 L1139.5 1518.52 Z\" fill=\"#000000\" fill-rule=\"nonzero\" fill-opacity=\"1\" /><path clip-path=\"url(#clip260)\" d=\"M1165.06 1537.87 Q1164.07 1537.3 1162.89 1537.04 Q1161.75 1536.76 1160.35 1536.76 Q1155.38 1536.76 1152.71 1540 Q1150.06 1543.22 1150.06 1549.27 L1150.06 1568.04 L1144.18 1568.04 L1144.18 1532.4 L1150.06 1532.4 L1150.06 1537.93 Q1151.91 1534.69 1154.87 1533.13 Q1157.83 1531.54 1162.06 1531.54 Q1162.67 1531.54 1163.4 1531.63 Q1164.13 1531.7 1165.02 1531.85 L1165.06 1537.87 Z\" fill=\"#000000\" fill-rule=\"nonzero\" fill-opacity=\"1\" /><path clip-path=\"url(#clip260)\" d=\"M1183.58 1536.5 Q1178.87 1536.5 1176.13 1540.19 Q1173.4 1543.85 1173.4 1550.25 Q1173.4 1556.65 1176.1 1560.34 Q1178.84 1564 1183.58 1564 Q1188.26 1564 1191 1560.31 Q1193.73 1556.62 1193.73 1550.25 Q1193.73 1543.92 1191 1540.23 Q1188.26 1536.5 1183.58 1536.5 M1183.58 1531.54 Q1191.22 1531.54 1195.58 1536.5 Q1199.94 1541.47 1199.94 1550.25 Q1199.94 1559 1195.58 1564 Q1191.22 1568.97 1183.58 1568.97 Q1175.91 1568.97 1171.55 1564 Q1167.22 1559 1167.22 1550.25 Q1167.22 1541.47 1171.55 1536.5 Q1175.91 1531.54 1183.58 1531.54 Z\" fill=\"#000000\" fill-rule=\"nonzero\" fill-opacity=\"1\" /><path clip-path=\"url(#clip260)\" d=\"M1237.4 1539.24 Q1239.6 1535.29 1242.65 1533.41 Q1245.71 1531.54 1249.85 1531.54 Q1255.42 1531.54 1258.44 1535.45 Q1261.46 1539.33 1261.46 1546.53 L1261.46 1568.04 L1255.58 1568.04 L1255.58 1546.72 Q1255.58 1541.59 1253.76 1539.11 Q1251.95 1536.63 1248.22 1536.63 Q1243.67 1536.63 1241.03 1539.65 Q1238.39 1542.68 1238.39 1547.9 L1238.39 1568.04 L1232.5 1568.04 L1232.5 1546.72 Q1232.5 1541.56 1230.69 1539.11 Q1228.87 1536.63 1225.08 1536.63 Q1220.6 1536.63 1217.95 1539.68 Q1215.31 1542.71 1215.31 1547.9 L1215.31 1568.04 L1209.42 1568.04 L1209.42 1532.4 L1215.31 1532.4 L1215.31 1537.93 Q1217.32 1534.66 1220.12 1533.1 Q1222.92 1531.54 1226.77 1531.54 Q1230.65 1531.54 1233.36 1533.51 Q1236.1 1535.48 1237.4 1539.24 Z\" fill=\"#000000\" fill-rule=\"nonzero\" fill-opacity=\"1\" /><path clip-path=\"url(#clip260)\" d=\"M1319.52 1533.76 L1319.52 1539.24 Q1317.04 1537.87 1314.52 1537.2 Q1312.04 1536.5 1309.49 1536.5 Q1303.8 1536.5 1300.65 1540.13 Q1297.49 1543.73 1297.49 1550.25 Q1297.49 1556.78 1300.65 1560.4 Q1303.8 1564 1309.49 1564 Q1312.04 1564 1314.52 1563.33 Q1317.04 1562.63 1319.52 1561.26 L1319.52 1566.68 Q1317.07 1567.82 1314.43 1568.39 Q1311.82 1568.97 1308.86 1568.97 Q1300.8 1568.97 1296.06 1563.91 Q1291.32 1558.85 1291.32 1550.25 Q1291.32 1541.53 1296.09 1536.53 Q1300.9 1531.54 1309.24 1531.54 Q1311.94 1531.54 1314.52 1532.11 Q1317.1 1532.65 1319.52 1533.76 Z\" fill=\"#000000\" fill-rule=\"nonzero\" fill-opacity=\"1\" /><path clip-path=\"url(#clip260)\" d=\"M1343.52 1536.5 Q1338.81 1536.5 1336.07 1540.19 Q1333.33 1543.85 1333.33 1550.25 Q1333.33 1556.65 1336.04 1560.34 Q1338.78 1564 1343.52 1564 Q1348.2 1564 1350.93 1560.31 Q1353.67 1556.62 1353.67 1550.25 Q1353.67 1543.92 1350.93 1540.23 Q1348.2 1536.5 1343.52 1536.5 M1343.52 1531.54 Q1351.16 1531.54 1355.52 1536.5 Q1359.88 1541.47 1359.88 1550.25 Q1359.88 1559 1355.52 1564 Q1351.16 1568.97 1343.52 1568.97 Q1335.85 1568.97 1331.49 1564 Q1327.16 1559 1327.16 1550.25 Q1327.16 1541.47 1331.49 1536.5 Q1335.85 1531.54 1343.52 1531.54 Z\" fill=\"#000000\" fill-rule=\"nonzero\" fill-opacity=\"1\" /><path clip-path=\"url(#clip260)\" d=\"M1385.79 1550.12 Q1378.69 1550.12 1375.95 1551.75 Q1373.21 1553.37 1373.21 1557.29 Q1373.21 1560.4 1375.25 1562.25 Q1377.32 1564.07 1380.85 1564.07 Q1385.72 1564.07 1388.65 1560.63 Q1391.61 1557.16 1391.61 1551.43 L1391.61 1550.12 L1385.79 1550.12 M1397.47 1547.71 L1397.47 1568.04 L1391.61 1568.04 L1391.61 1562.63 Q1389.61 1565.88 1386.61 1567.44 Q1383.62 1568.97 1379.29 1568.97 Q1373.82 1568.97 1370.57 1565.91 Q1367.36 1562.82 1367.36 1557.67 Q1367.36 1551.65 1371.37 1548.6 Q1375.41 1545.54 1383.4 1545.54 L1391.61 1545.54 L1391.61 1544.97 Q1391.61 1540.93 1388.94 1538.73 Q1386.3 1536.5 1381.49 1536.5 Q1378.43 1536.5 1375.54 1537.23 Q1372.64 1537.97 1369.97 1539.43 L1369.97 1534.02 Q1373.18 1532.78 1376.21 1532.17 Q1379.23 1531.54 1382.09 1531.54 Q1389.83 1531.54 1393.65 1535.55 Q1397.47 1539.56 1397.47 1547.71 Z\" fill=\"#000000\" fill-rule=\"nonzero\" fill-opacity=\"1\" /><path clip-path=\"url(#clip260)\" d=\"M1432.26 1533.45 L1432.26 1538.98 Q1429.77 1537.71 1427.1 1537.07 Q1424.43 1536.44 1421.56 1536.44 Q1417.2 1536.44 1415.01 1537.77 Q1412.84 1539.11 1412.84 1541.79 Q1412.84 1543.82 1414.4 1545 Q1415.96 1546.15 1420.67 1547.2 L1422.68 1547.64 Q1428.91 1548.98 1431.52 1551.43 Q1434.17 1553.85 1434.17 1558.21 Q1434.17 1563.17 1430.22 1566.07 Q1426.3 1568.97 1419.43 1568.97 Q1416.57 1568.97 1413.45 1568.39 Q1410.36 1567.85 1406.92 1566.74 L1406.92 1560.69 Q1410.17 1562.38 1413.32 1563.24 Q1416.47 1564.07 1419.56 1564.07 Q1423.69 1564.07 1425.92 1562.66 Q1428.15 1561.23 1428.15 1558.65 Q1428.15 1556.27 1426.53 1554.99 Q1424.94 1553.72 1419.49 1552.54 L1417.46 1552.07 Q1412.01 1550.92 1409.59 1548.56 Q1407.18 1546.18 1407.18 1542.04 Q1407.18 1537.01 1410.74 1534.27 Q1414.31 1531.54 1420.86 1531.54 Q1424.11 1531.54 1426.97 1532.01 Q1429.84 1532.49 1432.26 1533.45 Z\" fill=\"#000000\" fill-rule=\"nonzero\" fill-opacity=\"1\" /><path clip-path=\"url(#clip260)\" d=\"M1449.28 1522.27 L1449.28 1532.4 L1461.35 1532.4 L1461.35 1536.95 L1449.28 1536.95 L1449.28 1556.3 Q1449.28 1560.66 1450.46 1561.9 Q1451.67 1563.14 1455.33 1563.14 L1461.35 1563.14 L1461.35 1568.04 L1455.33 1568.04 Q1448.55 1568.04 1445.97 1565.53 Q1443.4 1562.98 1443.4 1556.3 L1443.4 1536.95 L1439.1 1536.95 L1439.1 1532.4 L1443.4 1532.4 L1443.4 1522.27 L1449.28 1522.27 Z\" fill=\"#000000\" fill-rule=\"nonzero\" fill-opacity=\"1\" /><path clip-path=\"url(#clip260)\" d=\"M1469.05 1518.52 L1474.91 1518.52 L1474.91 1568.04 L1469.05 1568.04 L1469.05 1518.52 Z\" fill=\"#000000\" fill-rule=\"nonzero\" fill-opacity=\"1\" /><path clip-path=\"url(#clip260)\" d=\"M1487.16 1532.4 L1493.02 1532.4 L1493.02 1568.04 L1487.16 1568.04 L1487.16 1532.4 M1487.16 1518.52 L1493.02 1518.52 L1493.02 1525.93 L1487.16 1525.93 L1487.16 1518.52 Z\" fill=\"#000000\" fill-rule=\"nonzero\" fill-opacity=\"1\" /><path clip-path=\"url(#clip260)\" d=\"M1534.9 1546.53 L1534.9 1568.04 L1529.05 1568.04 L1529.05 1546.72 Q1529.05 1541.66 1527.07 1539.14 Q1525.1 1536.63 1521.15 1536.63 Q1516.41 1536.63 1513.67 1539.65 Q1510.94 1542.68 1510.94 1547.9 L1510.94 1568.04 L1505.05 1568.04 L1505.05 1532.4 L1510.94 1532.4 L1510.94 1537.93 Q1513.04 1534.72 1515.87 1533.13 Q1518.73 1531.54 1522.46 1531.54 Q1528.6 1531.54 1531.75 1535.36 Q1534.9 1539.14 1534.9 1546.53 Z\" fill=\"#000000\" fill-rule=\"nonzero\" fill-opacity=\"1\" /><path clip-path=\"url(#clip260)\" d=\"M1577.08 1548.76 L1577.08 1551.62 L1550.15 1551.62 Q1550.53 1557.67 1553.78 1560.85 Q1557.06 1564 1562.88 1564 Q1566.25 1564 1569.41 1563.17 Q1572.59 1562.35 1575.71 1560.69 L1575.71 1566.23 Q1572.56 1567.57 1569.25 1568.27 Q1565.94 1568.97 1562.53 1568.97 Q1554 1568.97 1549 1564 Q1544.04 1559.04 1544.04 1550.57 Q1544.04 1541.82 1548.75 1536.69 Q1553.49 1531.54 1561.51 1531.54 Q1568.71 1531.54 1572.87 1536.18 Q1577.08 1540.8 1577.08 1548.76 M1571.22 1547.04 Q1571.16 1542.23 1568.51 1539.37 Q1565.9 1536.5 1561.58 1536.5 Q1556.67 1536.5 1553.71 1539.27 Q1550.79 1542.04 1550.34 1547.07 L1571.22 1547.04 Z\" fill=\"#000000\" fill-rule=\"nonzero\" fill-opacity=\"1\" /><path clip-path=\"url(#clip260)\" d=\"M1621.48 1518.58 Q1617.21 1525.9 1615.14 1533.06 Q1613.07 1540.23 1613.07 1547.58 Q1613.07 1554.93 1615.14 1562.16 Q1617.24 1569.35 1621.48 1576.64 L1616.38 1576.64 Q1611.61 1569.16 1609.22 1561.93 Q1606.87 1554.71 1606.87 1547.58 Q1606.87 1540.48 1609.22 1533.29 Q1611.58 1526.09 1616.38 1518.58 L1621.48 1518.58 Z\" fill=\"#000000\" fill-rule=\"nonzero\" fill-opacity=\"1\" /><path clip-path=\"url(#clip260)\" d=\"M1632.62 1518.52 L1638.51 1518.52 L1638.51 1547.77 L1655.98 1532.4 L1663.46 1532.4 L1644.55 1549.07 L1664.25 1568.04 L1656.62 1568.04 L1638.51 1550.63 L1638.51 1568.04 L1632.62 1568.04 L1632.62 1518.52 Z\" fill=\"#000000\" fill-rule=\"nonzero\" fill-opacity=\"1\" /><path clip-path=\"url(#clip260)\" d=\"M1698.34 1539.24 Q1700.54 1535.29 1703.59 1533.41 Q1706.65 1531.54 1710.79 1531.54 Q1716.36 1531.54 1719.38 1535.45 Q1722.41 1539.33 1722.41 1546.53 L1722.41 1568.04 L1716.52 1568.04 L1716.52 1546.72 Q1716.52 1541.59 1714.7 1539.11 Q1712.89 1536.63 1709.16 1536.63 Q1704.61 1536.63 1701.97 1539.65 Q1699.33 1542.68 1699.33 1547.9 L1699.33 1568.04 L1693.44 1568.04 L1693.44 1546.72 Q1693.44 1541.56 1691.63 1539.11 Q1689.81 1536.63 1686.03 1536.63 Q1681.54 1536.63 1678.9 1539.68 Q1676.25 1542.71 1676.25 1547.9 L1676.25 1568.04 L1670.37 1568.04 L1670.37 1532.4 L1676.25 1532.4 L1676.25 1537.93 Q1678.26 1534.66 1681.06 1533.1 Q1683.86 1531.54 1687.71 1531.54 Q1691.6 1531.54 1694.3 1533.51 Q1697.04 1535.48 1698.34 1539.24 Z\" fill=\"#000000\" fill-rule=\"nonzero\" fill-opacity=\"1\" /><path clip-path=\"url(#clip260)\" d=\"M1733.16 1518.58 L1738.26 1518.58 Q1743.03 1526.09 1745.39 1533.29 Q1747.77 1540.48 1747.77 1547.58 Q1747.77 1554.71 1745.39 1561.93 Q1743.03 1569.16 1738.26 1576.64 L1733.16 1576.64 Q1737.4 1569.35 1739.47 1562.16 Q1741.57 1554.93 1741.57 1547.58 Q1741.57 1540.23 1739.47 1533.06 Q1737.4 1525.9 1733.16 1518.58 Z\" fill=\"#000000\" fill-rule=\"nonzero\" fill-opacity=\"1\" /><polyline clip-path=\"url(#clip260)\" style=\"stroke:#000000; stroke-linecap:round; stroke-linejoin:round; stroke-width:4; stroke-opacity:1; fill:none\" points=\"210.977,1423.18 210.977,47.2441 \"/>\n",
       "<polyline clip-path=\"url(#clip260)\" style=\"stroke:#000000; stroke-linecap:round; stroke-linejoin:round; stroke-width:4; stroke-opacity:1; fill:none\" points=\"210.977,1384.24 229.875,1384.24 \"/>\n",
       "<polyline clip-path=\"url(#clip260)\" style=\"stroke:#000000; stroke-linecap:round; stroke-linejoin:round; stroke-width:4; stroke-opacity:1; fill:none\" points=\"210.977,1124.63 229.875,1124.63 \"/>\n",
       "<polyline clip-path=\"url(#clip260)\" style=\"stroke:#000000; stroke-linecap:round; stroke-linejoin:round; stroke-width:4; stroke-opacity:1; fill:none\" points=\"210.977,865.017 229.875,865.017 \"/>\n",
       "<polyline clip-path=\"url(#clip260)\" style=\"stroke:#000000; stroke-linecap:round; stroke-linejoin:round; stroke-width:4; stroke-opacity:1; fill:none\" points=\"210.977,605.407 229.875,605.407 \"/>\n",
       "<polyline clip-path=\"url(#clip260)\" style=\"stroke:#000000; stroke-linecap:round; stroke-linejoin:round; stroke-width:4; stroke-opacity:1; fill:none\" points=\"210.977,345.796 229.875,345.796 \"/>\n",
       "<polyline clip-path=\"url(#clip260)\" style=\"stroke:#000000; stroke-linecap:round; stroke-linejoin:round; stroke-width:4; stroke-opacity:1; fill:none\" points=\"210.977,86.1857 229.875,86.1857 \"/>\n",
       "<path clip-path=\"url(#clip260)\" d=\"M114.26 1384.69 L143.936 1384.69 L143.936 1388.62 L114.26 1388.62 L114.26 1384.69 Z\" fill=\"#000000\" fill-rule=\"nonzero\" fill-opacity=\"1\" /><path clip-path=\"url(#clip260)\" d=\"M154.075 1366.96 L172.431 1366.96 L172.431 1370.89 L158.357 1370.89 L158.357 1379.37 Q159.376 1379.02 160.394 1378.86 Q161.413 1378.67 162.431 1378.67 Q168.218 1378.67 171.598 1381.84 Q174.977 1385.01 174.977 1390.43 Q174.977 1396.01 171.505 1399.11 Q168.033 1402.19 161.714 1402.19 Q159.538 1402.19 157.269 1401.82 Q155.024 1401.45 152.616 1400.71 L152.616 1396.01 Q154.7 1397.14 156.922 1397.7 Q159.144 1398.25 161.621 1398.25 Q165.626 1398.25 167.964 1396.15 Q170.302 1394.04 170.302 1390.43 Q170.302 1386.82 167.964 1384.71 Q165.626 1382.61 161.621 1382.61 Q159.746 1382.61 157.871 1383.02 Q156.019 1383.44 154.075 1384.32 L154.075 1366.96 Z\" fill=\"#000000\" fill-rule=\"nonzero\" fill-opacity=\"1\" /><path clip-path=\"url(#clip260)\" d=\"M163.033 1110.43 Q159.422 1110.43 157.593 1113.99 Q155.788 1117.53 155.788 1124.66 Q155.788 1131.77 157.593 1135.33 Q159.422 1138.88 163.033 1138.88 Q166.667 1138.88 168.473 1135.33 Q170.302 1131.77 170.302 1124.66 Q170.302 1117.53 168.473 1113.99 Q166.667 1110.43 163.033 1110.43 M163.033 1106.72 Q168.843 1106.72 171.899 1111.33 Q174.977 1115.91 174.977 1124.66 Q174.977 1133.39 171.899 1138 Q168.843 1142.58 163.033 1142.58 Q157.223 1142.58 154.144 1138 Q151.089 1133.39 151.089 1124.66 Q151.089 1115.91 154.144 1111.33 Q157.223 1106.72 163.033 1106.72 Z\" fill=\"#000000\" fill-rule=\"nonzero\" fill-opacity=\"1\" /><path clip-path=\"url(#clip260)\" d=\"M154.075 847.737 L172.431 847.737 L172.431 851.672 L158.357 851.672 L158.357 860.145 Q159.376 859.797 160.394 859.635 Q161.413 859.45 162.431 859.45 Q168.218 859.45 171.598 862.621 Q174.977 865.793 174.977 871.209 Q174.977 876.788 171.505 879.89 Q168.033 882.969 161.714 882.969 Q159.538 882.969 157.269 882.598 Q155.024 882.228 152.616 881.487 L152.616 876.788 Q154.7 877.922 156.922 878.478 Q159.144 879.033 161.621 879.033 Q165.626 879.033 167.964 876.927 Q170.302 874.82 170.302 871.209 Q170.302 867.598 167.964 865.492 Q165.626 863.385 161.621 863.385 Q159.746 863.385 157.871 863.802 Q156.019 864.219 154.075 865.098 L154.075 847.737 Z\" fill=\"#000000\" fill-rule=\"nonzero\" fill-opacity=\"1\" /><path clip-path=\"url(#clip260)\" d=\"M123.681 618.752 L131.32 618.752 L131.32 592.386 L123.01 594.053 L123.01 589.793 L131.274 588.127 L135.95 588.127 L135.95 618.752 L143.589 618.752 L143.589 622.687 L123.681 622.687 L123.681 618.752 Z\" fill=\"#000000\" fill-rule=\"nonzero\" fill-opacity=\"1\" /><path clip-path=\"url(#clip260)\" d=\"M163.033 591.205 Q159.422 591.205 157.593 594.77 Q155.788 598.312 155.788 605.441 Q155.788 612.548 157.593 616.113 Q159.422 619.654 163.033 619.654 Q166.667 619.654 168.473 616.113 Q170.302 612.548 170.302 605.441 Q170.302 598.312 168.473 594.77 Q166.667 591.205 163.033 591.205 M163.033 587.502 Q168.843 587.502 171.899 592.108 Q174.977 596.691 174.977 605.441 Q174.977 614.168 171.899 618.775 Q168.843 623.358 163.033 623.358 Q157.223 623.358 154.144 618.775 Q151.089 614.168 151.089 605.441 Q151.089 596.691 154.144 592.108 Q157.223 587.502 163.033 587.502 Z\" fill=\"#000000\" fill-rule=\"nonzero\" fill-opacity=\"1\" /><path clip-path=\"url(#clip260)\" d=\"M124.677 359.141 L132.316 359.141 L132.316 332.775 L124.005 334.442 L124.005 330.183 L132.269 328.516 L136.945 328.516 L136.945 359.141 L144.584 359.141 L144.584 363.076 L124.677 363.076 L124.677 359.141 Z\" fill=\"#000000\" fill-rule=\"nonzero\" fill-opacity=\"1\" /><path clip-path=\"url(#clip260)\" d=\"M154.075 328.516 L172.431 328.516 L172.431 332.451 L158.357 332.451 L158.357 340.924 Q159.376 340.576 160.394 340.414 Q161.413 340.229 162.431 340.229 Q168.218 340.229 171.598 343.4 Q174.977 346.572 174.977 351.988 Q174.977 357.567 171.505 360.669 Q168.033 363.747 161.714 363.747 Q159.538 363.747 157.269 363.377 Q155.024 363.007 152.616 362.266 L152.616 357.567 Q154.7 358.701 156.922 359.257 Q159.144 359.812 161.621 359.812 Q165.626 359.812 167.964 357.706 Q170.302 355.599 170.302 351.988 Q170.302 348.377 167.964 346.271 Q165.626 344.164 161.621 344.164 Q159.746 344.164 157.871 344.581 Q156.019 344.998 154.075 345.877 L154.075 328.516 Z\" fill=\"#000000\" fill-rule=\"nonzero\" fill-opacity=\"1\" /><path clip-path=\"url(#clip260)\" d=\"M126.899 99.5305 L143.218 99.5305 L143.218 103.466 L121.274 103.466 L121.274 99.5305 Q123.936 96.7759 128.519 92.1463 Q133.126 87.4935 134.306 86.151 Q136.552 83.6278 137.431 81.8917 Q138.334 80.1325 138.334 78.4427 Q138.334 75.688 136.39 73.9519 Q134.468 72.2158 131.367 72.2158 Q129.167 72.2158 126.714 72.9797 Q124.283 73.7436 121.505 75.2945 L121.505 70.5723 Q124.33 69.4381 126.783 68.8594 Q129.237 68.2807 131.274 68.2807 Q136.644 68.2807 139.839 70.9658 Q143.033 73.651 143.033 78.1417 Q143.033 80.2714 142.223 82.1926 Q141.436 84.0908 139.329 86.6834 Q138.751 87.3546 135.649 90.5722 Q132.547 93.7667 126.899 99.5305 Z\" fill=\"#000000\" fill-rule=\"nonzero\" fill-opacity=\"1\" /><path clip-path=\"url(#clip260)\" d=\"M163.033 71.9844 Q159.422 71.9844 157.593 75.5492 Q155.788 79.0908 155.788 86.2204 Q155.788 93.3268 157.593 96.8916 Q159.422 100.433 163.033 100.433 Q166.667 100.433 168.473 96.8916 Q170.302 93.3268 170.302 86.2204 Q170.302 79.0908 168.473 75.5492 Q166.667 71.9844 163.033 71.9844 M163.033 68.2807 Q168.843 68.2807 171.899 72.8871 Q174.977 77.4704 174.977 86.2204 Q174.977 94.9472 171.899 99.5537 Q168.843 104.137 163.033 104.137 Q157.223 104.137 154.144 99.5537 Q151.089 94.9472 151.089 86.2204 Q151.089 77.4704 154.144 72.8871 Q157.223 68.2807 163.033 68.2807 Z\" fill=\"#000000\" fill-rule=\"nonzero\" fill-opacity=\"1\" /><path clip-path=\"url(#clip260)\" d=\"M16.4842 948.145 L16.4842 918.099 L21.895 918.099 L21.895 941.715 L35.9632 941.715 L35.9632 919.085 L41.3741 919.085 L41.3741 941.715 L58.5933 941.715 L58.5933 917.526 L64.0042 917.526 L64.0042 948.145 L16.4842 948.145 Z\" fill=\"#000000\" fill-rule=\"nonzero\" fill-opacity=\"1\" /><path clip-path=\"url(#clip260)\" d=\"M14.479 907.213 L14.479 901.357 L64.0042 901.357 L64.0042 907.213 L14.479 907.213 Z\" fill=\"#000000\" fill-rule=\"nonzero\" fill-opacity=\"1\" /><path clip-path=\"url(#clip260)\" d=\"M44.7161 858.611 L47.5806 858.611 L47.5806 885.538 Q53.6281 885.156 56.8109 881.91 Q59.9619 878.631 59.9619 872.807 Q59.9619 869.433 59.1344 866.282 Q58.3069 863.099 56.6518 859.98 L62.1899 859.98 Q63.5267 863.131 64.227 866.441 Q64.9272 869.751 64.9272 873.157 Q64.9272 881.687 59.9619 886.684 Q54.9967 891.649 46.5303 891.649 Q37.7774 891.649 32.6531 886.939 Q27.4968 882.196 27.4968 874.175 Q27.4968 866.982 32.1438 862.813 Q36.7589 858.611 44.7161 858.611 M42.9973 864.468 Q38.1912 864.531 35.3266 867.173 Q32.4621 869.783 32.4621 874.112 Q32.4621 879.013 35.2312 881.973 Q38.0002 884.902 43.0292 885.347 L42.9973 864.468 Z\" fill=\"#000000\" fill-rule=\"nonzero\" fill-opacity=\"1\" /><path clip-path=\"url(#clip260)\" d=\"M28.3562 853.2 L28.3562 846.994 L58.275 835.854 L28.3562 824.714 L28.3562 818.507 L64.0042 831.875 L64.0042 839.832 L28.3562 853.2 Z\" fill=\"#000000\" fill-rule=\"nonzero\" fill-opacity=\"1\" /><path clip-path=\"url(#clip260)\" d=\"M46.0847 794.222 Q46.0847 801.32 47.7079 804.057 Q49.3312 806.794 53.2461 806.794 Q56.3653 806.794 58.2114 804.757 Q60.0256 802.688 60.0256 799.155 Q60.0256 794.286 56.5881 791.358 Q53.1188 788.397 47.3897 788.397 L46.0847 788.397 L46.0847 794.222 M43.6657 782.541 L64.0042 782.541 L64.0042 788.397 L58.5933 788.397 Q61.8398 790.403 63.3994 793.395 Q64.9272 796.386 64.9272 800.715 Q64.9272 806.19 61.8716 809.436 Q58.7843 812.651 53.6281 812.651 Q47.6125 812.651 44.5569 808.64 Q41.5014 804.598 41.5014 796.609 L41.5014 788.397 L40.9285 788.397 Q36.8862 788.397 34.6901 791.071 Q32.4621 793.713 32.4621 798.519 Q32.4621 801.574 33.1941 804.471 Q33.9262 807.367 35.3903 810.041 L29.9795 810.041 Q28.7381 806.826 28.1334 803.802 Q27.4968 800.779 27.4968 797.914 Q27.4968 790.18 31.5072 786.36 Q35.5176 782.541 43.6657 782.541 Z\" fill=\"#000000\" fill-rule=\"nonzero\" fill-opacity=\"1\" /><path clip-path=\"url(#clip260)\" d=\"M18.2347 764.685 L28.3562 764.685 L28.3562 752.622 L32.9077 752.622 L32.9077 764.685 L52.2594 764.685 Q56.6199 764.685 57.8613 763.508 Q59.1026 762.298 59.1026 758.638 L59.1026 752.622 L64.0042 752.622 L64.0042 758.638 Q64.0042 765.417 61.4897 767.995 Q58.9434 770.573 52.2594 770.573 L32.9077 770.573 L32.9077 774.87 L28.3562 774.87 L28.3562 770.573 L18.2347 770.573 L18.2347 764.685 Z\" fill=\"#000000\" fill-rule=\"nonzero\" fill-opacity=\"1\" /><path clip-path=\"url(#clip260)\" d=\"M28.3562 744.92 L28.3562 739.063 L64.0042 739.063 L64.0042 744.92 L28.3562 744.92 M14.479 744.92 L14.479 739.063 L21.895 739.063 L21.895 744.92 L14.479 744.92 Z\" fill=\"#000000\" fill-rule=\"nonzero\" fill-opacity=\"1\" /><path clip-path=\"url(#clip260)\" d=\"M32.4621 712.996 Q32.4621 717.706 36.1542 720.444 Q39.8145 723.181 46.212 723.181 Q52.6095 723.181 56.3017 720.475 Q59.9619 717.738 59.9619 712.996 Q59.9619 708.317 56.2698 705.58 Q52.5777 702.842 46.212 702.842 Q39.8781 702.842 36.186 705.58 Q32.4621 708.317 32.4621 712.996 M27.4968 712.996 Q27.4968 705.357 32.4621 700.996 Q37.4273 696.636 46.212 696.636 Q54.9649 696.636 59.9619 700.996 Q64.9272 705.357 64.9272 712.996 Q64.9272 720.666 59.9619 725.027 Q54.9649 729.356 46.212 729.356 Q37.4273 729.356 32.4621 725.027 Q27.4968 720.666 27.4968 712.996 Z\" fill=\"#000000\" fill-rule=\"nonzero\" fill-opacity=\"1\" /><path clip-path=\"url(#clip260)\" d=\"M42.4881 657.296 L64.0042 657.296 L64.0042 663.152 L42.679 663.152 Q37.6183 663.152 35.1038 665.126 Q32.5894 667.099 32.5894 671.046 Q32.5894 675.788 35.6131 678.525 Q38.6368 681.263 43.8567 681.263 L64.0042 681.263 L64.0042 687.151 L28.3562 687.151 L28.3562 681.263 L33.8944 681.263 Q30.6797 679.162 29.0883 676.329 Q27.4968 673.465 27.4968 669.741 Q27.4968 663.598 31.3163 660.447 Q35.1038 657.296 42.4881 657.296 Z\" fill=\"#000000\" fill-rule=\"nonzero\" fill-opacity=\"1\" /><path clip-path=\"url(#clip260)\" d=\"M14.5426 610.826 Q21.8632 615.091 29.0246 617.16 Q36.186 619.229 43.5384 619.229 Q50.8908 619.229 58.1159 617.16 Q65.3091 615.059 72.5979 610.826 L72.5979 615.919 Q65.1182 620.693 57.8931 623.08 Q50.668 625.435 43.5384 625.435 Q36.4406 625.435 29.2474 623.08 Q22.0542 620.725 14.5426 615.919 L14.5426 610.826 Z\" fill=\"#000000\" fill-rule=\"nonzero\" fill-opacity=\"1\" /><path clip-path=\"url(#clip260)\" d=\"M35.1993 571.709 Q31.2526 569.513 29.3747 566.457 Q27.4968 563.402 27.4968 559.264 Q27.4968 553.694 31.4117 550.67 Q35.2948 547.646 42.4881 547.646 L64.0042 547.646 L64.0042 553.535 L42.679 553.535 Q37.5546 553.535 35.072 555.349 Q32.5894 557.163 32.5894 560.887 Q32.5894 565.439 35.6131 568.08 Q38.6368 570.722 43.8567 570.722 L64.0042 570.722 L64.0042 576.61 L42.679 576.61 Q37.5228 576.61 35.072 578.425 Q32.5894 580.239 32.5894 584.026 Q32.5894 588.514 35.6449 591.156 Q38.6686 593.798 43.8567 593.798 L64.0042 593.798 L64.0042 599.686 L28.3562 599.686 L28.3562 593.798 L33.8944 593.798 Q30.616 591.793 29.0564 588.992 Q27.4968 586.191 27.4968 582.34 Q27.4968 578.456 29.4702 575.751 Q31.4436 573.014 35.1993 571.709 Z\" fill=\"#000000\" fill-rule=\"nonzero\" fill-opacity=\"1\" /><path clip-path=\"url(#clip260)\" d=\"M14.5426 536.888 L14.5426 531.796 Q22.0542 527.022 29.2474 524.666 Q36.4406 522.279 43.5384 522.279 Q50.668 522.279 57.8931 524.666 Q65.1182 527.022 72.5979 531.796 L72.5979 536.888 Q65.3091 532.655 58.1159 530.586 Q50.8908 528.486 43.5384 528.486 Q36.186 528.486 29.0246 530.586 Q21.8632 532.655 14.5426 536.888 Z\" fill=\"#000000\" fill-rule=\"nonzero\" fill-opacity=\"1\" /><polyline clip-path=\"url(#clip262)\" style=\"stroke:#009af9; stroke-linecap:round; stroke-linejoin:round; stroke-width:4; stroke-opacity:1; fill:none\" points=\"271.594,1384.24 271.943,1379.05 271.959,1373.85 272.019,1368.66 272.019,1363.47 272.019,1358.28 272.019,1353.09 272.035,1347.89 272.035,1342.7 272.065,1337.51 272.095,1332.32 272.111,1327.12 272.126,1321.93 272.141,1316.74 272.141,1311.55 272.141,1306.36 272.141,1301.16 272.156,1295.97 272.156,1290.78 272.187,1285.59 272.232,1280.39 272.293,1275.2 272.323,1270.01 272.369,1264.82 272.445,1259.63 272.475,1254.43 272.475,1249.24 272.536,1244.05 272.551,1238.86 272.567,1233.66 272.612,1228.47 272.658,1223.28 272.749,1218.09 272.81,1212.9 272.916,1207.7 272.977,1202.51 273.114,1197.32 273.19,1192.13 273.342,1186.93 273.448,1181.74 273.57,1176.55 273.782,1171.36 274.01,1166.17 274.086,1160.97 274.36,1155.78 274.74,1150.59 274.968,1145.4 275.256,1140.2 275.712,1135.01 276.199,1129.82 276.761,1124.63 277.825,1119.44 279.192,1114.24 281,1109.05 282.581,1103.86 284.207,1098.67 285.985,1093.47 287.854,1088.28 289.48,1083.09 291.713,1077.9 294.737,1072.71 297.943,1067.51 301.148,1062.32 304.78,1057.13 308.898,1051.94 313.137,1046.74 318.242,1041.55 324.016,1036.36 329.866,1031.17 335.564,1025.98 341.824,1020.78 347.689,1015.59 353.798,1010.4 360.666,1005.21 367.428,1000.01 375.437,994.822 384.023,989.63 391.44,984.438 400.285,979.246 408.218,974.054 416.652,968.861 424.038,963.669 432.64,958.477 442.717,953.285 450.68,948.093 459.039,942.9 467.46,937.708 475.287,932.516 482.977,927.324 490.12,922.132 497.962,916.939 507.294,911.747 517.083,906.555 524.834,901.363 532.175,896.17 540.093,890.978 548.088,885.786 556.006,880.594 563.955,875.402 570.991,870.209 578.986,865.017 587.482,859.825 595.947,854.633 606.069,849.441 614.914,844.248 623.425,839.056 631.557,833.864 639.9,828.672 648.198,823.48 656.101,818.287 665.037,813.095 674.611,807.903 685.248,802.711 695.945,797.518 706.097,792.326 715.323,787.134 724.441,781.942 734.259,776.75 743.879,771.557 753.058,766.365 762.785,761.173 772.709,755.981 782.8,750.789 793.044,745.596 804.123,740.404 815.415,735.212 826.129,730.02 836.616,724.828 847.224,719.635 857.498,714.443 868.059,709.251 878.788,704.059 890.458,698.867 901.386,693.674 911.752,688.482 922.452,683.29 933.395,678.098 943.214,672.905 953.276,667.713 963.946,662.521 973.886,657.329 983.387,652.137 992.75,646.944 1003.09,641.752 1013.04,636.56 1023.38,631.368 1033.99,626.176 1044.36,620.983 1055.16,615.791 1064.88,610.599 1075.34,605.407 1086.12,600.214 1097.12,595.022 1106.85,589.83 1116.64,584.638 1126.76,579.446 1136.87,574.253 1148.78,569.061 1158.65,563.869 1169.41,558.677 1180.11,553.485 1190.71,548.292 1201.2,543.1 1211.32,537.908 1222.1,532.716 1232.97,527.524 1244.1,522.331 1255.29,517.139 1267.76,511.947 1280.18,506.755 1292.45,501.563 1304,496.37 1317.39,491.178 1328.71,485.986 1339.4,480.794 1350.18,475.601 1360.99,470.409 1372.04,465.217 1387.85,460.025 1399.61,454.833 1410.68,449.64 1420.83,444.448 1431.42,439.256 1441.52,434.064 1451.1,428.872 1462.12,423.679 1472.46,418.487 1484.16,413.295 1496.45,408.103 1516.08,402.911 1526.69,397.718 1537.38,392.526 1548.66,387.334 1562.82,382.142 1574.55,376.949 1586.64,371.757 1597.84,366.565 1610.88,361.373 1624.36,356.181 1637.38,350.988 1649.88,345.796 1661.94,340.604 1675.25,335.412 1687.58,330.22 1700.65,325.027 1713.64,319.835 1725.73,314.643 1737.45,309.451 1749.79,304.258 1763.44,299.066 1777.8,293.874 1789.4,288.682 1801,283.49 1812.92,278.297 1826.11,273.105 1838.57,267.913 1851.57,262.721 1864.04,257.529 1876.55,252.336 1889.34,247.144 1902.77,241.952 1916.18,236.76 1929.63,231.568 1942.33,226.375 1954.68,221.183 1966.53,215.991 1978.35,210.799 1990.1,205.606 2005.62,200.414 2027.38,195.222 2042.63,190.03 2055.95,184.838 2069.71,179.645 2082.55,174.453 2096.01,169.261 2108.29,164.069 2120.61,158.877 2132.6,153.684 2145.13,148.492 2164.63,143.3 2176.64,138.108 2188.93,132.916 2201.97,127.723 2214.16,122.531 2226.73,117.339 2238.12,112.147 2249.18,106.954 2259.6,101.762 2269.26,96.5701 2280.82,91.3779 2292.14,86.1857 \"/>\n",
       "<path clip-path=\"url(#clip260)\" d=\"M282.37 196.789 L548.978 196.789 L548.978 93.1086 L282.37 93.1086  Z\" fill=\"#ffffff\" fill-rule=\"evenodd\" fill-opacity=\"1\"/>\n",
       "<polyline clip-path=\"url(#clip260)\" style=\"stroke:#000000; stroke-linecap:round; stroke-linejoin:round; stroke-width:4; stroke-opacity:1; fill:none\" points=\"282.37,196.789 548.978,196.789 548.978,93.1086 282.37,93.1086 282.37,196.789 \"/>\n",
       "<polyline clip-path=\"url(#clip260)\" style=\"stroke:#009af9; stroke-linecap:round; stroke-linejoin:round; stroke-width:4; stroke-opacity:1; fill:none\" points=\"306.168,144.949 448.953,144.949 \"/>\n",
       "<path clip-path=\"url(#clip260)\" d=\"M486.593 164.636 Q484.787 169.266 483.074 170.678 Q481.361 172.09 478.491 172.09 L475.088 172.09 L475.088 168.525 L477.588 168.525 Q479.348 168.525 480.32 167.692 Q481.292 166.858 482.473 163.756 L483.236 161.812 L472.75 136.303 L477.264 136.303 L485.366 156.581 L493.468 136.303 L497.982 136.303 L486.593 164.636 Z\" fill=\"#000000\" fill-rule=\"nonzero\" fill-opacity=\"1\" /><path clip-path=\"url(#clip260)\" d=\"M505.273 158.293 L512.912 158.293 L512.912 131.928 L504.602 133.595 L504.602 129.335 L512.866 127.669 L517.542 127.669 L517.542 158.293 L525.181 158.293 L525.181 162.229 L505.273 162.229 L505.273 158.293 Z\" fill=\"#000000\" fill-rule=\"nonzero\" fill-opacity=\"1\" /></svg>\n"
      ],
      "text/html": [
       "<?xml version=\"1.0\" encoding=\"utf-8\"?>\n",
       "<svg xmlns=\"http://www.w3.org/2000/svg\" xmlns:xlink=\"http://www.w3.org/1999/xlink\" width=\"600\" height=\"400\" viewBox=\"0 0 2400 1600\">\n",
       "<defs>\n",
       "  <clipPath id=\"clip310\">\n",
       "    <rect x=\"0\" y=\"0\" width=\"2400\" height=\"1600\"/>\n",
       "  </clipPath>\n",
       "</defs>\n",
       "<path clip-path=\"url(#clip310)\" d=\"M0 1600 L2400 1600 L2400 0 L0 0  Z\" fill=\"#ffffff\" fill-rule=\"evenodd\" fill-opacity=\"1\"/>\n",
       "<defs>\n",
       "  <clipPath id=\"clip311\">\n",
       "    <rect x=\"480\" y=\"0\" width=\"1681\" height=\"1600\"/>\n",
       "  </clipPath>\n",
       "</defs>\n",
       "<path clip-path=\"url(#clip310)\" d=\"M210.977 1423.18 L2352.76 1423.18 L2352.76 47.2441 L210.977 47.2441  Z\" fill=\"#ffffff\" fill-rule=\"evenodd\" fill-opacity=\"1\"/>\n",
       "<defs>\n",
       "  <clipPath id=\"clip312\">\n",
       "    <rect x=\"210\" y=\"47\" width=\"2143\" height=\"1377\"/>\n",
       "  </clipPath>\n",
       "</defs>\n",
       "<polyline clip-path=\"url(#clip312)\" style=\"stroke:#000000; stroke-linecap:round; stroke-linejoin:round; stroke-width:2; stroke-opacity:0.1; fill:none\" points=\"271.594,1423.18 271.594,47.2441 \"/>\n",
       "<polyline clip-path=\"url(#clip312)\" style=\"stroke:#000000; stroke-linecap:round; stroke-linejoin:round; stroke-width:2; stroke-opacity:0.1; fill:none\" points=\"716.97,1423.18 716.97,47.2441 \"/>\n",
       "<polyline clip-path=\"url(#clip312)\" style=\"stroke:#000000; stroke-linecap:round; stroke-linejoin:round; stroke-width:2; stroke-opacity:0.1; fill:none\" points=\"1162.35,1423.18 1162.35,47.2441 \"/>\n",
       "<polyline clip-path=\"url(#clip312)\" style=\"stroke:#000000; stroke-linecap:round; stroke-linejoin:round; stroke-width:2; stroke-opacity:0.1; fill:none\" points=\"1607.72,1423.18 1607.72,47.2441 \"/>\n",
       "<polyline clip-path=\"url(#clip312)\" style=\"stroke:#000000; stroke-linecap:round; stroke-linejoin:round; stroke-width:2; stroke-opacity:0.1; fill:none\" points=\"2053.1,1423.18 2053.1,47.2441 \"/>\n",
       "<polyline clip-path=\"url(#clip312)\" style=\"stroke:#000000; stroke-linecap:round; stroke-linejoin:round; stroke-width:2; stroke-opacity:0.1; fill:none\" points=\"210.977,1384.24 2352.76,1384.24 \"/>\n",
       "<polyline clip-path=\"url(#clip312)\" style=\"stroke:#000000; stroke-linecap:round; stroke-linejoin:round; stroke-width:2; stroke-opacity:0.1; fill:none\" points=\"210.977,1124.63 2352.76,1124.63 \"/>\n",
       "<polyline clip-path=\"url(#clip312)\" style=\"stroke:#000000; stroke-linecap:round; stroke-linejoin:round; stroke-width:2; stroke-opacity:0.1; fill:none\" points=\"210.977,865.017 2352.76,865.017 \"/>\n",
       "<polyline clip-path=\"url(#clip312)\" style=\"stroke:#000000; stroke-linecap:round; stroke-linejoin:round; stroke-width:2; stroke-opacity:0.1; fill:none\" points=\"210.977,605.407 2352.76,605.407 \"/>\n",
       "<polyline clip-path=\"url(#clip312)\" style=\"stroke:#000000; stroke-linecap:round; stroke-linejoin:round; stroke-width:2; stroke-opacity:0.1; fill:none\" points=\"210.977,345.796 2352.76,345.796 \"/>\n",
       "<polyline clip-path=\"url(#clip312)\" style=\"stroke:#000000; stroke-linecap:round; stroke-linejoin:round; stroke-width:2; stroke-opacity:0.1; fill:none\" points=\"210.977,86.1857 2352.76,86.1857 \"/>\n",
       "<polyline clip-path=\"url(#clip310)\" style=\"stroke:#000000; stroke-linecap:round; stroke-linejoin:round; stroke-width:4; stroke-opacity:1; fill:none\" points=\"210.977,1423.18 2352.76,1423.18 \"/>\n",
       "<polyline clip-path=\"url(#clip310)\" style=\"stroke:#000000; stroke-linecap:round; stroke-linejoin:round; stroke-width:4; stroke-opacity:1; fill:none\" points=\"271.594,1423.18 271.594,1404.28 \"/>\n",
       "<polyline clip-path=\"url(#clip310)\" style=\"stroke:#000000; stroke-linecap:round; stroke-linejoin:round; stroke-width:4; stroke-opacity:1; fill:none\" points=\"716.97,1423.18 716.97,1404.28 \"/>\n",
       "<polyline clip-path=\"url(#clip310)\" style=\"stroke:#000000; stroke-linecap:round; stroke-linejoin:round; stroke-width:4; stroke-opacity:1; fill:none\" points=\"1162.35,1423.18 1162.35,1404.28 \"/>\n",
       "<polyline clip-path=\"url(#clip310)\" style=\"stroke:#000000; stroke-linecap:round; stroke-linejoin:round; stroke-width:4; stroke-opacity:1; fill:none\" points=\"1607.72,1423.18 1607.72,1404.28 \"/>\n",
       "<polyline clip-path=\"url(#clip310)\" style=\"stroke:#000000; stroke-linecap:round; stroke-linejoin:round; stroke-width:4; stroke-opacity:1; fill:none\" points=\"2053.1,1423.18 2053.1,1404.28 \"/>\n",
       "<path clip-path=\"url(#clip310)\" d=\"M271.594 1454.1 Q267.983 1454.1 266.154 1457.66 Q264.348 1461.2 264.348 1468.33 Q264.348 1475.44 266.154 1479.01 Q267.983 1482.55 271.594 1482.55 Q275.228 1482.55 277.034 1479.01 Q278.862 1475.44 278.862 1468.33 Q278.862 1461.2 277.034 1457.66 Q275.228 1454.1 271.594 1454.1 M271.594 1450.39 Q277.404 1450.39 280.459 1455 Q283.538 1459.58 283.538 1468.33 Q283.538 1477.06 280.459 1481.67 Q277.404 1486.25 271.594 1486.25 Q265.784 1486.25 262.705 1481.67 Q259.649 1477.06 259.649 1468.33 Q259.649 1459.58 262.705 1455 Q265.784 1450.39 271.594 1450.39 Z\" fill=\"#000000\" fill-rule=\"nonzero\" fill-opacity=\"1\" /><path clip-path=\"url(#clip310)\" d=\"M711.623 1481.64 L727.942 1481.64 L727.942 1485.58 L705.998 1485.58 L705.998 1481.64 Q708.66 1478.89 713.243 1474.26 Q717.85 1469.61 719.03 1468.27 Q721.276 1465.74 722.155 1464.01 Q723.058 1462.25 723.058 1460.56 Q723.058 1457.8 721.114 1456.07 Q719.192 1454.33 716.09 1454.33 Q713.891 1454.33 711.438 1455.09 Q709.007 1455.86 706.229 1457.41 L706.229 1452.69 Q709.053 1451.55 711.507 1450.97 Q713.961 1450.39 715.998 1450.39 Q721.368 1450.39 724.563 1453.08 Q727.757 1455.77 727.757 1460.26 Q727.757 1462.39 726.947 1464.31 Q726.16 1466.2 724.053 1468.8 Q723.475 1469.47 720.373 1472.69 Q717.271 1475.88 711.623 1481.64 Z\" fill=\"#000000\" fill-rule=\"nonzero\" fill-opacity=\"1\" /><path clip-path=\"url(#clip310)\" d=\"M1165.36 1455.09 L1153.55 1473.54 L1165.36 1473.54 L1165.36 1455.09 M1164.13 1451.02 L1170.01 1451.02 L1170.01 1473.54 L1174.94 1473.54 L1174.94 1477.43 L1170.01 1477.43 L1170.01 1485.58 L1165.36 1485.58 L1165.36 1477.43 L1149.75 1477.43 L1149.75 1472.92 L1164.13 1451.02 Z\" fill=\"#000000\" fill-rule=\"nonzero\" fill-opacity=\"1\" /><path clip-path=\"url(#clip310)\" d=\"M1608.13 1466.44 Q1604.98 1466.44 1603.13 1468.59 Q1601.3 1470.74 1601.3 1474.49 Q1601.3 1478.22 1603.13 1480.39 Q1604.98 1482.55 1608.13 1482.55 Q1611.28 1482.55 1613.1 1480.39 Q1614.96 1478.22 1614.96 1474.49 Q1614.96 1470.74 1613.1 1468.59 Q1611.28 1466.44 1608.13 1466.44 M1617.41 1451.78 L1617.41 1456.04 Q1615.65 1455.21 1613.85 1454.77 Q1612.06 1454.33 1610.3 1454.33 Q1605.67 1454.33 1603.22 1457.45 Q1600.79 1460.58 1600.44 1466.9 Q1601.81 1464.89 1603.87 1463.82 Q1605.93 1462.73 1608.41 1462.73 Q1613.61 1462.73 1616.62 1465.9 Q1619.66 1469.05 1619.66 1474.49 Q1619.66 1479.82 1616.51 1483.03 Q1613.36 1486.25 1608.13 1486.25 Q1602.13 1486.25 1598.96 1481.67 Q1595.79 1477.06 1595.79 1468.33 Q1595.79 1460.14 1599.68 1455.28 Q1603.57 1450.39 1610.12 1450.39 Q1611.88 1450.39 1613.66 1450.74 Q1615.47 1451.09 1617.41 1451.78 Z\" fill=\"#000000\" fill-rule=\"nonzero\" fill-opacity=\"1\" /><path clip-path=\"url(#clip310)\" d=\"M2053.1 1469.17 Q2049.77 1469.17 2047.84 1470.95 Q2045.95 1472.73 2045.95 1475.86 Q2045.95 1478.98 2047.84 1480.77 Q2049.77 1482.55 2053.1 1482.55 Q2056.43 1482.55 2058.35 1480.77 Q2060.27 1478.96 2060.27 1475.86 Q2060.27 1472.73 2058.35 1470.95 Q2056.46 1469.17 2053.1 1469.17 M2048.42 1467.18 Q2045.41 1466.44 2043.72 1464.38 Q2042.06 1462.32 2042.06 1459.35 Q2042.06 1455.21 2045 1452.8 Q2047.96 1450.39 2053.1 1450.39 Q2058.26 1450.39 2061.2 1452.8 Q2064.14 1455.21 2064.14 1459.35 Q2064.14 1462.32 2062.45 1464.38 Q2060.78 1466.44 2057.8 1467.18 Q2061.18 1467.96 2063.05 1470.26 Q2064.95 1472.55 2064.95 1475.86 Q2064.95 1480.88 2061.87 1483.57 Q2058.82 1486.25 2053.1 1486.25 Q2047.38 1486.25 2044.3 1483.57 Q2041.25 1480.88 2041.25 1475.86 Q2041.25 1472.55 2043.15 1470.26 Q2045.04 1467.96 2048.42 1467.18 M2046.71 1459.79 Q2046.71 1462.48 2048.38 1463.98 Q2050.07 1465.49 2053.1 1465.49 Q2056.11 1465.49 2057.8 1463.98 Q2059.51 1462.48 2059.51 1459.79 Q2059.51 1457.11 2057.8 1455.6 Q2056.11 1454.1 2053.1 1454.1 Q2050.07 1454.1 2048.38 1455.6 Q2046.71 1457.11 2046.71 1459.79 Z\" fill=\"#000000\" fill-rule=\"nonzero\" fill-opacity=\"1\" /><path clip-path=\"url(#clip310)\" d=\"M822.39 1525.81 L822.39 1562.76 L830.156 1562.76 Q839.991 1562.76 844.543 1558.3 Q849.126 1553.85 849.126 1544.24 Q849.126 1534.69 844.543 1530.26 Q839.991 1525.81 830.156 1525.81 L822.39 1525.81 M815.961 1520.52 L829.169 1520.52 Q842.983 1520.52 849.444 1526.28 Q855.905 1532.01 855.905 1544.24 Q855.905 1556.52 849.412 1562.28 Q842.919 1568.04 829.169 1568.04 L815.961 1568.04 L815.961 1520.52 Z\" fill=\"#000000\" fill-rule=\"nonzero\" fill-opacity=\"1\" /><path clip-path=\"url(#clip310)\" d=\"M865.9 1532.4 L871.756 1532.4 L871.756 1568.04 L865.9 1568.04 L865.9 1532.4 M865.9 1518.52 L871.756 1518.52 L871.756 1525.93 L865.9 1525.93 L865.9 1518.52 Z\" fill=\"#000000\" fill-rule=\"nonzero\" fill-opacity=\"1\" /><path clip-path=\"url(#clip310)\" d=\"M906.736 1533.45 L906.736 1538.98 Q904.253 1537.71 901.579 1537.07 Q898.906 1536.44 896.041 1536.44 Q891.681 1536.44 889.485 1537.77 Q887.32 1539.11 887.32 1541.79 Q887.32 1543.82 888.88 1545 Q890.439 1546.15 895.15 1547.2 L897.155 1547.64 Q903.394 1548.98 906.004 1551.43 Q908.645 1553.85 908.645 1558.21 Q908.645 1563.17 904.699 1566.07 Q900.784 1568.97 893.909 1568.97 Q891.044 1568.97 887.925 1568.39 Q884.838 1567.85 881.4 1566.74 L881.4 1560.69 Q884.647 1562.38 887.798 1563.24 Q890.949 1564.07 894.036 1564.07 Q898.174 1564.07 900.402 1562.66 Q902.63 1561.23 902.63 1558.65 Q902.63 1556.27 901.006 1554.99 Q899.415 1553.72 893.972 1552.54 L891.935 1552.07 Q886.493 1550.92 884.074 1548.56 Q881.655 1546.18 881.655 1542.04 Q881.655 1537.01 885.219 1534.27 Q888.784 1531.54 895.341 1531.54 Q898.587 1531.54 901.452 1532.01 Q904.317 1532.49 906.736 1533.45 Z\" fill=\"#000000\" fill-rule=\"nonzero\" fill-opacity=\"1\" /><path clip-path=\"url(#clip310)\" d=\"M923.764 1522.27 L923.764 1532.4 L935.827 1532.4 L935.827 1536.95 L923.764 1536.95 L923.764 1556.3 Q923.764 1560.66 924.941 1561.9 Q926.151 1563.14 929.811 1563.14 L935.827 1563.14 L935.827 1568.04 L929.811 1568.04 Q923.032 1568.04 920.454 1565.53 Q917.876 1562.98 917.876 1556.3 L917.876 1536.95 L913.579 1536.95 L913.579 1532.4 L917.876 1532.4 L917.876 1522.27 L923.764 1522.27 Z\" fill=\"#000000\" fill-rule=\"nonzero\" fill-opacity=\"1\" /><path clip-path=\"url(#clip310)\" d=\"M959.73 1550.12 Q952.632 1550.12 949.895 1551.75 Q947.158 1553.37 947.158 1557.29 Q947.158 1560.4 949.195 1562.25 Q951.264 1564.07 954.797 1564.07 Q959.666 1564.07 962.595 1560.63 Q965.555 1557.16 965.555 1551.43 L965.555 1550.12 L959.73 1550.12 M971.411 1547.71 L971.411 1568.04 L965.555 1568.04 L965.555 1562.63 Q963.55 1565.88 960.558 1567.44 Q957.566 1568.97 953.237 1568.97 Q947.763 1568.97 944.516 1565.91 Q941.301 1562.82 941.301 1557.67 Q941.301 1551.65 945.312 1548.6 Q949.354 1545.54 957.343 1545.54 L965.555 1545.54 L965.555 1544.97 Q965.555 1540.93 962.881 1538.73 Q960.239 1536.5 955.433 1536.5 Q952.378 1536.5 949.481 1537.23 Q946.585 1537.97 943.911 1539.43 L943.911 1534.02 Q947.126 1532.78 950.15 1532.17 Q953.173 1531.54 956.038 1531.54 Q963.772 1531.54 967.592 1535.55 Q971.411 1539.56 971.411 1547.71 Z\" fill=\"#000000\" fill-rule=\"nonzero\" fill-opacity=\"1\" /><path clip-path=\"url(#clip310)\" d=\"M1013.11 1546.53 L1013.11 1568.04 L1007.25 1568.04 L1007.25 1546.72 Q1007.25 1541.66 1005.28 1539.14 Q1003.3 1536.63 999.357 1536.63 Q994.614 1536.63 991.877 1539.65 Q989.14 1542.68 989.14 1547.9 L989.14 1568.04 L983.251 1568.04 L983.251 1532.4 L989.14 1532.4 L989.14 1537.93 Q991.24 1534.72 994.073 1533.13 Q996.938 1531.54 1000.66 1531.54 Q1006.8 1531.54 1009.96 1535.36 Q1013.11 1539.14 1013.11 1546.53 Z\" fill=\"#000000\" fill-rule=\"nonzero\" fill-opacity=\"1\" /><path clip-path=\"url(#clip310)\" d=\"M1050.44 1533.76 L1050.44 1539.24 Q1047.96 1537.87 1045.44 1537.2 Q1042.96 1536.5 1040.42 1536.5 Q1034.72 1536.5 1031.57 1540.13 Q1028.42 1543.73 1028.42 1550.25 Q1028.42 1556.78 1031.57 1560.4 Q1034.72 1564 1040.42 1564 Q1042.96 1564 1045.44 1563.33 Q1047.96 1562.63 1050.44 1561.26 L1050.44 1566.68 Q1047.99 1567.82 1045.35 1568.39 Q1042.74 1568.97 1039.78 1568.97 Q1031.73 1568.97 1026.98 1563.91 Q1022.24 1558.85 1022.24 1550.25 Q1022.24 1541.53 1027.02 1536.53 Q1031.82 1531.54 1040.16 1531.54 Q1042.87 1531.54 1045.44 1532.11 Q1048.02 1532.65 1050.44 1533.76 Z\" fill=\"#000000\" fill-rule=\"nonzero\" fill-opacity=\"1\" /><path clip-path=\"url(#clip310)\" d=\"M1091.12 1548.76 L1091.12 1551.62 L1064.19 1551.62 Q1064.57 1557.67 1067.82 1560.85 Q1071.1 1564 1076.92 1564 Q1080.3 1564 1083.45 1563.17 Q1086.63 1562.35 1089.75 1560.69 L1089.75 1566.23 Q1086.6 1567.57 1083.29 1568.27 Q1079.98 1568.97 1076.57 1568.97 Q1068.04 1568.97 1063.05 1564 Q1058.08 1559.04 1058.08 1550.57 Q1058.08 1541.82 1062.79 1536.69 Q1067.53 1531.54 1075.55 1531.54 Q1082.75 1531.54 1086.92 1536.18 Q1091.12 1540.8 1091.12 1548.76 M1085.26 1547.04 Q1085.2 1542.23 1082.56 1539.37 Q1079.95 1536.5 1075.62 1536.5 Q1070.72 1536.5 1067.76 1539.27 Q1064.83 1542.04 1064.38 1547.07 L1085.26 1547.04 Z\" fill=\"#000000\" fill-rule=\"nonzero\" fill-opacity=\"1\" /><path clip-path=\"url(#clip310)\" d=\"M1139.5 1518.52 L1139.5 1523.39 L1133.9 1523.39 Q1130.74 1523.39 1129.5 1524.66 Q1128.29 1525.93 1128.29 1529.24 L1128.29 1532.4 L1137.94 1532.4 L1137.94 1536.95 L1128.29 1536.95 L1128.29 1568.04 L1122.41 1568.04 L1122.41 1536.95 L1116.8 1536.95 L1116.8 1532.4 L1122.41 1532.4 L1122.41 1529.91 Q1122.41 1523.96 1125.17 1521.26 Q1127.94 1518.52 1133.96 1518.52 L1139.5 1518.52 Z\" fill=\"#000000\" fill-rule=\"nonzero\" fill-opacity=\"1\" /><path clip-path=\"url(#clip310)\" d=\"M1165.06 1537.87 Q1164.07 1537.3 1162.89 1537.04 Q1161.75 1536.76 1160.35 1536.76 Q1155.38 1536.76 1152.71 1540 Q1150.06 1543.22 1150.06 1549.27 L1150.06 1568.04 L1144.18 1568.04 L1144.18 1532.4 L1150.06 1532.4 L1150.06 1537.93 Q1151.91 1534.69 1154.87 1533.13 Q1157.83 1531.54 1162.06 1531.54 Q1162.67 1531.54 1163.4 1531.63 Q1164.13 1531.7 1165.02 1531.85 L1165.06 1537.87 Z\" fill=\"#000000\" fill-rule=\"nonzero\" fill-opacity=\"1\" /><path clip-path=\"url(#clip310)\" d=\"M1183.58 1536.5 Q1178.87 1536.5 1176.13 1540.19 Q1173.4 1543.85 1173.4 1550.25 Q1173.4 1556.65 1176.1 1560.34 Q1178.84 1564 1183.58 1564 Q1188.26 1564 1191 1560.31 Q1193.73 1556.62 1193.73 1550.25 Q1193.73 1543.92 1191 1540.23 Q1188.26 1536.5 1183.58 1536.5 M1183.58 1531.54 Q1191.22 1531.54 1195.58 1536.5 Q1199.94 1541.47 1199.94 1550.25 Q1199.94 1559 1195.58 1564 Q1191.22 1568.97 1183.58 1568.97 Q1175.91 1568.97 1171.55 1564 Q1167.22 1559 1167.22 1550.25 Q1167.22 1541.47 1171.55 1536.5 Q1175.91 1531.54 1183.58 1531.54 Z\" fill=\"#000000\" fill-rule=\"nonzero\" fill-opacity=\"1\" /><path clip-path=\"url(#clip310)\" d=\"M1237.4 1539.24 Q1239.6 1535.29 1242.65 1533.41 Q1245.71 1531.54 1249.85 1531.54 Q1255.42 1531.54 1258.44 1535.45 Q1261.46 1539.33 1261.46 1546.53 L1261.46 1568.04 L1255.58 1568.04 L1255.58 1546.72 Q1255.58 1541.59 1253.76 1539.11 Q1251.95 1536.63 1248.22 1536.63 Q1243.67 1536.63 1241.03 1539.65 Q1238.39 1542.68 1238.39 1547.9 L1238.39 1568.04 L1232.5 1568.04 L1232.5 1546.72 Q1232.5 1541.56 1230.69 1539.11 Q1228.87 1536.63 1225.08 1536.63 Q1220.6 1536.63 1217.95 1539.68 Q1215.31 1542.71 1215.31 1547.9 L1215.31 1568.04 L1209.42 1568.04 L1209.42 1532.4 L1215.31 1532.4 L1215.31 1537.93 Q1217.32 1534.66 1220.12 1533.1 Q1222.92 1531.54 1226.77 1531.54 Q1230.65 1531.54 1233.36 1533.51 Q1236.1 1535.48 1237.4 1539.24 Z\" fill=\"#000000\" fill-rule=\"nonzero\" fill-opacity=\"1\" /><path clip-path=\"url(#clip310)\" d=\"M1319.52 1533.76 L1319.52 1539.24 Q1317.04 1537.87 1314.52 1537.2 Q1312.04 1536.5 1309.49 1536.5 Q1303.8 1536.5 1300.65 1540.13 Q1297.49 1543.73 1297.49 1550.25 Q1297.49 1556.78 1300.65 1560.4 Q1303.8 1564 1309.49 1564 Q1312.04 1564 1314.52 1563.33 Q1317.04 1562.63 1319.52 1561.26 L1319.52 1566.68 Q1317.07 1567.82 1314.43 1568.39 Q1311.82 1568.97 1308.86 1568.97 Q1300.8 1568.97 1296.06 1563.91 Q1291.32 1558.85 1291.32 1550.25 Q1291.32 1541.53 1296.09 1536.53 Q1300.9 1531.54 1309.24 1531.54 Q1311.94 1531.54 1314.52 1532.11 Q1317.1 1532.65 1319.52 1533.76 Z\" fill=\"#000000\" fill-rule=\"nonzero\" fill-opacity=\"1\" /><path clip-path=\"url(#clip310)\" d=\"M1343.52 1536.5 Q1338.81 1536.5 1336.07 1540.19 Q1333.33 1543.85 1333.33 1550.25 Q1333.33 1556.65 1336.04 1560.34 Q1338.78 1564 1343.52 1564 Q1348.2 1564 1350.93 1560.31 Q1353.67 1556.62 1353.67 1550.25 Q1353.67 1543.92 1350.93 1540.23 Q1348.2 1536.5 1343.52 1536.5 M1343.52 1531.54 Q1351.16 1531.54 1355.52 1536.5 Q1359.88 1541.47 1359.88 1550.25 Q1359.88 1559 1355.52 1564 Q1351.16 1568.97 1343.52 1568.97 Q1335.85 1568.97 1331.49 1564 Q1327.16 1559 1327.16 1550.25 Q1327.16 1541.47 1331.49 1536.5 Q1335.85 1531.54 1343.52 1531.54 Z\" fill=\"#000000\" fill-rule=\"nonzero\" fill-opacity=\"1\" /><path clip-path=\"url(#clip310)\" d=\"M1385.79 1550.12 Q1378.69 1550.12 1375.95 1551.75 Q1373.21 1553.37 1373.21 1557.29 Q1373.21 1560.4 1375.25 1562.25 Q1377.32 1564.07 1380.85 1564.07 Q1385.72 1564.07 1388.65 1560.63 Q1391.61 1557.16 1391.61 1551.43 L1391.61 1550.12 L1385.79 1550.12 M1397.47 1547.71 L1397.47 1568.04 L1391.61 1568.04 L1391.61 1562.63 Q1389.61 1565.88 1386.61 1567.44 Q1383.62 1568.97 1379.29 1568.97 Q1373.82 1568.97 1370.57 1565.91 Q1367.36 1562.82 1367.36 1557.67 Q1367.36 1551.65 1371.37 1548.6 Q1375.41 1545.54 1383.4 1545.54 L1391.61 1545.54 L1391.61 1544.97 Q1391.61 1540.93 1388.94 1538.73 Q1386.3 1536.5 1381.49 1536.5 Q1378.43 1536.5 1375.54 1537.23 Q1372.64 1537.97 1369.97 1539.43 L1369.97 1534.02 Q1373.18 1532.78 1376.21 1532.17 Q1379.23 1531.54 1382.09 1531.54 Q1389.83 1531.54 1393.65 1535.55 Q1397.47 1539.56 1397.47 1547.71 Z\" fill=\"#000000\" fill-rule=\"nonzero\" fill-opacity=\"1\" /><path clip-path=\"url(#clip310)\" d=\"M1432.26 1533.45 L1432.26 1538.98 Q1429.77 1537.71 1427.1 1537.07 Q1424.43 1536.44 1421.56 1536.44 Q1417.2 1536.44 1415.01 1537.77 Q1412.84 1539.11 1412.84 1541.79 Q1412.84 1543.82 1414.4 1545 Q1415.96 1546.15 1420.67 1547.2 L1422.68 1547.64 Q1428.91 1548.98 1431.52 1551.43 Q1434.17 1553.85 1434.17 1558.21 Q1434.17 1563.17 1430.22 1566.07 Q1426.3 1568.97 1419.43 1568.97 Q1416.57 1568.97 1413.45 1568.39 Q1410.36 1567.85 1406.92 1566.74 L1406.92 1560.69 Q1410.17 1562.38 1413.32 1563.24 Q1416.47 1564.07 1419.56 1564.07 Q1423.69 1564.07 1425.92 1562.66 Q1428.15 1561.23 1428.15 1558.65 Q1428.15 1556.27 1426.53 1554.99 Q1424.94 1553.72 1419.49 1552.54 L1417.46 1552.07 Q1412.01 1550.92 1409.59 1548.56 Q1407.18 1546.18 1407.18 1542.04 Q1407.18 1537.01 1410.74 1534.27 Q1414.31 1531.54 1420.86 1531.54 Q1424.11 1531.54 1426.97 1532.01 Q1429.84 1532.49 1432.26 1533.45 Z\" fill=\"#000000\" fill-rule=\"nonzero\" fill-opacity=\"1\" /><path clip-path=\"url(#clip310)\" d=\"M1449.28 1522.27 L1449.28 1532.4 L1461.35 1532.4 L1461.35 1536.95 L1449.28 1536.95 L1449.28 1556.3 Q1449.28 1560.66 1450.46 1561.9 Q1451.67 1563.14 1455.33 1563.14 L1461.35 1563.14 L1461.35 1568.04 L1455.33 1568.04 Q1448.55 1568.04 1445.97 1565.53 Q1443.4 1562.98 1443.4 1556.3 L1443.4 1536.95 L1439.1 1536.95 L1439.1 1532.4 L1443.4 1532.4 L1443.4 1522.27 L1449.28 1522.27 Z\" fill=\"#000000\" fill-rule=\"nonzero\" fill-opacity=\"1\" /><path clip-path=\"url(#clip310)\" d=\"M1469.05 1518.52 L1474.91 1518.52 L1474.91 1568.04 L1469.05 1568.04 L1469.05 1518.52 Z\" fill=\"#000000\" fill-rule=\"nonzero\" fill-opacity=\"1\" /><path clip-path=\"url(#clip310)\" d=\"M1487.16 1532.4 L1493.02 1532.4 L1493.02 1568.04 L1487.16 1568.04 L1487.16 1532.4 M1487.16 1518.52 L1493.02 1518.52 L1493.02 1525.93 L1487.16 1525.93 L1487.16 1518.52 Z\" fill=\"#000000\" fill-rule=\"nonzero\" fill-opacity=\"1\" /><path clip-path=\"url(#clip310)\" d=\"M1534.9 1546.53 L1534.9 1568.04 L1529.05 1568.04 L1529.05 1546.72 Q1529.05 1541.66 1527.07 1539.14 Q1525.1 1536.63 1521.15 1536.63 Q1516.41 1536.63 1513.67 1539.65 Q1510.94 1542.68 1510.94 1547.9 L1510.94 1568.04 L1505.05 1568.04 L1505.05 1532.4 L1510.94 1532.4 L1510.94 1537.93 Q1513.04 1534.72 1515.87 1533.13 Q1518.73 1531.54 1522.46 1531.54 Q1528.6 1531.54 1531.75 1535.36 Q1534.9 1539.14 1534.9 1546.53 Z\" fill=\"#000000\" fill-rule=\"nonzero\" fill-opacity=\"1\" /><path clip-path=\"url(#clip310)\" d=\"M1577.08 1548.76 L1577.08 1551.62 L1550.15 1551.62 Q1550.53 1557.67 1553.78 1560.85 Q1557.06 1564 1562.88 1564 Q1566.25 1564 1569.41 1563.17 Q1572.59 1562.35 1575.71 1560.69 L1575.71 1566.23 Q1572.56 1567.57 1569.25 1568.27 Q1565.94 1568.97 1562.53 1568.97 Q1554 1568.97 1549 1564 Q1544.04 1559.04 1544.04 1550.57 Q1544.04 1541.82 1548.75 1536.69 Q1553.49 1531.54 1561.51 1531.54 Q1568.71 1531.54 1572.87 1536.18 Q1577.08 1540.8 1577.08 1548.76 M1571.22 1547.04 Q1571.16 1542.23 1568.51 1539.37 Q1565.9 1536.5 1561.58 1536.5 Q1556.67 1536.5 1553.71 1539.27 Q1550.79 1542.04 1550.34 1547.07 L1571.22 1547.04 Z\" fill=\"#000000\" fill-rule=\"nonzero\" fill-opacity=\"1\" /><path clip-path=\"url(#clip310)\" d=\"M1621.48 1518.58 Q1617.21 1525.9 1615.14 1533.06 Q1613.07 1540.23 1613.07 1547.58 Q1613.07 1554.93 1615.14 1562.16 Q1617.24 1569.35 1621.48 1576.64 L1616.38 1576.64 Q1611.61 1569.16 1609.22 1561.93 Q1606.87 1554.71 1606.87 1547.58 Q1606.87 1540.48 1609.22 1533.29 Q1611.58 1526.09 1616.38 1518.58 L1621.48 1518.58 Z\" fill=\"#000000\" fill-rule=\"nonzero\" fill-opacity=\"1\" /><path clip-path=\"url(#clip310)\" d=\"M1632.62 1518.52 L1638.51 1518.52 L1638.51 1547.77 L1655.98 1532.4 L1663.46 1532.4 L1644.55 1549.07 L1664.25 1568.04 L1656.62 1568.04 L1638.51 1550.63 L1638.51 1568.04 L1632.62 1568.04 L1632.62 1518.52 Z\" fill=\"#000000\" fill-rule=\"nonzero\" fill-opacity=\"1\" /><path clip-path=\"url(#clip310)\" d=\"M1698.34 1539.24 Q1700.54 1535.29 1703.59 1533.41 Q1706.65 1531.54 1710.79 1531.54 Q1716.36 1531.54 1719.38 1535.45 Q1722.41 1539.33 1722.41 1546.53 L1722.41 1568.04 L1716.52 1568.04 L1716.52 1546.72 Q1716.52 1541.59 1714.7 1539.11 Q1712.89 1536.63 1709.16 1536.63 Q1704.61 1536.63 1701.97 1539.65 Q1699.33 1542.68 1699.33 1547.9 L1699.33 1568.04 L1693.44 1568.04 L1693.44 1546.72 Q1693.44 1541.56 1691.63 1539.11 Q1689.81 1536.63 1686.03 1536.63 Q1681.54 1536.63 1678.9 1539.68 Q1676.25 1542.71 1676.25 1547.9 L1676.25 1568.04 L1670.37 1568.04 L1670.37 1532.4 L1676.25 1532.4 L1676.25 1537.93 Q1678.26 1534.66 1681.06 1533.1 Q1683.86 1531.54 1687.71 1531.54 Q1691.6 1531.54 1694.3 1533.51 Q1697.04 1535.48 1698.34 1539.24 Z\" fill=\"#000000\" fill-rule=\"nonzero\" fill-opacity=\"1\" /><path clip-path=\"url(#clip310)\" d=\"M1733.16 1518.58 L1738.26 1518.58 Q1743.03 1526.09 1745.39 1533.29 Q1747.77 1540.48 1747.77 1547.58 Q1747.77 1554.71 1745.39 1561.93 Q1743.03 1569.16 1738.26 1576.64 L1733.16 1576.64 Q1737.4 1569.35 1739.47 1562.16 Q1741.57 1554.93 1741.57 1547.58 Q1741.57 1540.23 1739.47 1533.06 Q1737.4 1525.9 1733.16 1518.58 Z\" fill=\"#000000\" fill-rule=\"nonzero\" fill-opacity=\"1\" /><polyline clip-path=\"url(#clip310)\" style=\"stroke:#000000; stroke-linecap:round; stroke-linejoin:round; stroke-width:4; stroke-opacity:1; fill:none\" points=\"210.977,1423.18 210.977,47.2441 \"/>\n",
       "<polyline clip-path=\"url(#clip310)\" style=\"stroke:#000000; stroke-linecap:round; stroke-linejoin:round; stroke-width:4; stroke-opacity:1; fill:none\" points=\"210.977,1384.24 229.875,1384.24 \"/>\n",
       "<polyline clip-path=\"url(#clip310)\" style=\"stroke:#000000; stroke-linecap:round; stroke-linejoin:round; stroke-width:4; stroke-opacity:1; fill:none\" points=\"210.977,1124.63 229.875,1124.63 \"/>\n",
       "<polyline clip-path=\"url(#clip310)\" style=\"stroke:#000000; stroke-linecap:round; stroke-linejoin:round; stroke-width:4; stroke-opacity:1; fill:none\" points=\"210.977,865.017 229.875,865.017 \"/>\n",
       "<polyline clip-path=\"url(#clip310)\" style=\"stroke:#000000; stroke-linecap:round; stroke-linejoin:round; stroke-width:4; stroke-opacity:1; fill:none\" points=\"210.977,605.407 229.875,605.407 \"/>\n",
       "<polyline clip-path=\"url(#clip310)\" style=\"stroke:#000000; stroke-linecap:round; stroke-linejoin:round; stroke-width:4; stroke-opacity:1; fill:none\" points=\"210.977,345.796 229.875,345.796 \"/>\n",
       "<polyline clip-path=\"url(#clip310)\" style=\"stroke:#000000; stroke-linecap:round; stroke-linejoin:round; stroke-width:4; stroke-opacity:1; fill:none\" points=\"210.977,86.1857 229.875,86.1857 \"/>\n",
       "<path clip-path=\"url(#clip310)\" d=\"M114.26 1384.69 L143.936 1384.69 L143.936 1388.62 L114.26 1388.62 L114.26 1384.69 Z\" fill=\"#000000\" fill-rule=\"nonzero\" fill-opacity=\"1\" /><path clip-path=\"url(#clip310)\" d=\"M154.075 1366.96 L172.431 1366.96 L172.431 1370.89 L158.357 1370.89 L158.357 1379.37 Q159.376 1379.02 160.394 1378.86 Q161.413 1378.67 162.431 1378.67 Q168.218 1378.67 171.598 1381.84 Q174.977 1385.01 174.977 1390.43 Q174.977 1396.01 171.505 1399.11 Q168.033 1402.19 161.714 1402.19 Q159.538 1402.19 157.269 1401.82 Q155.024 1401.45 152.616 1400.71 L152.616 1396.01 Q154.7 1397.14 156.922 1397.7 Q159.144 1398.25 161.621 1398.25 Q165.626 1398.25 167.964 1396.15 Q170.302 1394.04 170.302 1390.43 Q170.302 1386.82 167.964 1384.71 Q165.626 1382.61 161.621 1382.61 Q159.746 1382.61 157.871 1383.02 Q156.019 1383.44 154.075 1384.32 L154.075 1366.96 Z\" fill=\"#000000\" fill-rule=\"nonzero\" fill-opacity=\"1\" /><path clip-path=\"url(#clip310)\" d=\"M163.033 1110.43 Q159.422 1110.43 157.593 1113.99 Q155.788 1117.53 155.788 1124.66 Q155.788 1131.77 157.593 1135.33 Q159.422 1138.88 163.033 1138.88 Q166.667 1138.88 168.473 1135.33 Q170.302 1131.77 170.302 1124.66 Q170.302 1117.53 168.473 1113.99 Q166.667 1110.43 163.033 1110.43 M163.033 1106.72 Q168.843 1106.72 171.899 1111.33 Q174.977 1115.91 174.977 1124.66 Q174.977 1133.39 171.899 1138 Q168.843 1142.58 163.033 1142.58 Q157.223 1142.58 154.144 1138 Q151.089 1133.39 151.089 1124.66 Q151.089 1115.91 154.144 1111.33 Q157.223 1106.72 163.033 1106.72 Z\" fill=\"#000000\" fill-rule=\"nonzero\" fill-opacity=\"1\" /><path clip-path=\"url(#clip310)\" d=\"M154.075 847.737 L172.431 847.737 L172.431 851.672 L158.357 851.672 L158.357 860.145 Q159.376 859.797 160.394 859.635 Q161.413 859.45 162.431 859.45 Q168.218 859.45 171.598 862.621 Q174.977 865.793 174.977 871.209 Q174.977 876.788 171.505 879.89 Q168.033 882.969 161.714 882.969 Q159.538 882.969 157.269 882.598 Q155.024 882.228 152.616 881.487 L152.616 876.788 Q154.7 877.922 156.922 878.478 Q159.144 879.033 161.621 879.033 Q165.626 879.033 167.964 876.927 Q170.302 874.82 170.302 871.209 Q170.302 867.598 167.964 865.492 Q165.626 863.385 161.621 863.385 Q159.746 863.385 157.871 863.802 Q156.019 864.219 154.075 865.098 L154.075 847.737 Z\" fill=\"#000000\" fill-rule=\"nonzero\" fill-opacity=\"1\" /><path clip-path=\"url(#clip310)\" d=\"M123.681 618.752 L131.32 618.752 L131.32 592.386 L123.01 594.053 L123.01 589.793 L131.274 588.127 L135.95 588.127 L135.95 618.752 L143.589 618.752 L143.589 622.687 L123.681 622.687 L123.681 618.752 Z\" fill=\"#000000\" fill-rule=\"nonzero\" fill-opacity=\"1\" /><path clip-path=\"url(#clip310)\" d=\"M163.033 591.205 Q159.422 591.205 157.593 594.77 Q155.788 598.312 155.788 605.441 Q155.788 612.548 157.593 616.113 Q159.422 619.654 163.033 619.654 Q166.667 619.654 168.473 616.113 Q170.302 612.548 170.302 605.441 Q170.302 598.312 168.473 594.77 Q166.667 591.205 163.033 591.205 M163.033 587.502 Q168.843 587.502 171.899 592.108 Q174.977 596.691 174.977 605.441 Q174.977 614.168 171.899 618.775 Q168.843 623.358 163.033 623.358 Q157.223 623.358 154.144 618.775 Q151.089 614.168 151.089 605.441 Q151.089 596.691 154.144 592.108 Q157.223 587.502 163.033 587.502 Z\" fill=\"#000000\" fill-rule=\"nonzero\" fill-opacity=\"1\" /><path clip-path=\"url(#clip310)\" d=\"M124.677 359.141 L132.316 359.141 L132.316 332.775 L124.005 334.442 L124.005 330.183 L132.269 328.516 L136.945 328.516 L136.945 359.141 L144.584 359.141 L144.584 363.076 L124.677 363.076 L124.677 359.141 Z\" fill=\"#000000\" fill-rule=\"nonzero\" fill-opacity=\"1\" /><path clip-path=\"url(#clip310)\" d=\"M154.075 328.516 L172.431 328.516 L172.431 332.451 L158.357 332.451 L158.357 340.924 Q159.376 340.576 160.394 340.414 Q161.413 340.229 162.431 340.229 Q168.218 340.229 171.598 343.4 Q174.977 346.572 174.977 351.988 Q174.977 357.567 171.505 360.669 Q168.033 363.747 161.714 363.747 Q159.538 363.747 157.269 363.377 Q155.024 363.007 152.616 362.266 L152.616 357.567 Q154.7 358.701 156.922 359.257 Q159.144 359.812 161.621 359.812 Q165.626 359.812 167.964 357.706 Q170.302 355.599 170.302 351.988 Q170.302 348.377 167.964 346.271 Q165.626 344.164 161.621 344.164 Q159.746 344.164 157.871 344.581 Q156.019 344.998 154.075 345.877 L154.075 328.516 Z\" fill=\"#000000\" fill-rule=\"nonzero\" fill-opacity=\"1\" /><path clip-path=\"url(#clip310)\" d=\"M126.899 99.5305 L143.218 99.5305 L143.218 103.466 L121.274 103.466 L121.274 99.5305 Q123.936 96.7759 128.519 92.1463 Q133.126 87.4935 134.306 86.151 Q136.552 83.6278 137.431 81.8917 Q138.334 80.1325 138.334 78.4427 Q138.334 75.688 136.39 73.9519 Q134.468 72.2158 131.367 72.2158 Q129.167 72.2158 126.714 72.9797 Q124.283 73.7436 121.505 75.2945 L121.505 70.5723 Q124.33 69.4381 126.783 68.8594 Q129.237 68.2807 131.274 68.2807 Q136.644 68.2807 139.839 70.9658 Q143.033 73.651 143.033 78.1417 Q143.033 80.2714 142.223 82.1926 Q141.436 84.0908 139.329 86.6834 Q138.751 87.3546 135.649 90.5722 Q132.547 93.7667 126.899 99.5305 Z\" fill=\"#000000\" fill-rule=\"nonzero\" fill-opacity=\"1\" /><path clip-path=\"url(#clip310)\" d=\"M163.033 71.9844 Q159.422 71.9844 157.593 75.5492 Q155.788 79.0908 155.788 86.2204 Q155.788 93.3268 157.593 96.8916 Q159.422 100.433 163.033 100.433 Q166.667 100.433 168.473 96.8916 Q170.302 93.3268 170.302 86.2204 Q170.302 79.0908 168.473 75.5492 Q166.667 71.9844 163.033 71.9844 M163.033 68.2807 Q168.843 68.2807 171.899 72.8871 Q174.977 77.4704 174.977 86.2204 Q174.977 94.9472 171.899 99.5537 Q168.843 104.137 163.033 104.137 Q157.223 104.137 154.144 99.5537 Q151.089 94.9472 151.089 86.2204 Q151.089 77.4704 154.144 72.8871 Q157.223 68.2807 163.033 68.2807 Z\" fill=\"#000000\" fill-rule=\"nonzero\" fill-opacity=\"1\" /><path clip-path=\"url(#clip310)\" d=\"M16.4842 948.145 L16.4842 918.099 L21.895 918.099 L21.895 941.715 L35.9632 941.715 L35.9632 919.085 L41.3741 919.085 L41.3741 941.715 L58.5933 941.715 L58.5933 917.526 L64.0042 917.526 L64.0042 948.145 L16.4842 948.145 Z\" fill=\"#000000\" fill-rule=\"nonzero\" fill-opacity=\"1\" /><path clip-path=\"url(#clip310)\" d=\"M14.479 907.213 L14.479 901.357 L64.0042 901.357 L64.0042 907.213 L14.479 907.213 Z\" fill=\"#000000\" fill-rule=\"nonzero\" fill-opacity=\"1\" /><path clip-path=\"url(#clip310)\" d=\"M44.7161 858.611 L47.5806 858.611 L47.5806 885.538 Q53.6281 885.156 56.8109 881.91 Q59.9619 878.631 59.9619 872.807 Q59.9619 869.433 59.1344 866.282 Q58.3069 863.099 56.6518 859.98 L62.1899 859.98 Q63.5267 863.131 64.227 866.441 Q64.9272 869.751 64.9272 873.157 Q64.9272 881.687 59.9619 886.684 Q54.9967 891.649 46.5303 891.649 Q37.7774 891.649 32.6531 886.939 Q27.4968 882.196 27.4968 874.175 Q27.4968 866.982 32.1438 862.813 Q36.7589 858.611 44.7161 858.611 M42.9973 864.468 Q38.1912 864.531 35.3266 867.173 Q32.4621 869.783 32.4621 874.112 Q32.4621 879.013 35.2312 881.973 Q38.0002 884.902 43.0292 885.347 L42.9973 864.468 Z\" fill=\"#000000\" fill-rule=\"nonzero\" fill-opacity=\"1\" /><path clip-path=\"url(#clip310)\" d=\"M28.3562 853.2 L28.3562 846.994 L58.275 835.854 L28.3562 824.714 L28.3562 818.507 L64.0042 831.875 L64.0042 839.832 L28.3562 853.2 Z\" fill=\"#000000\" fill-rule=\"nonzero\" fill-opacity=\"1\" /><path clip-path=\"url(#clip310)\" d=\"M46.0847 794.222 Q46.0847 801.32 47.7079 804.057 Q49.3312 806.794 53.2461 806.794 Q56.3653 806.794 58.2114 804.757 Q60.0256 802.688 60.0256 799.155 Q60.0256 794.286 56.5881 791.358 Q53.1188 788.397 47.3897 788.397 L46.0847 788.397 L46.0847 794.222 M43.6657 782.541 L64.0042 782.541 L64.0042 788.397 L58.5933 788.397 Q61.8398 790.403 63.3994 793.395 Q64.9272 796.386 64.9272 800.715 Q64.9272 806.19 61.8716 809.436 Q58.7843 812.651 53.6281 812.651 Q47.6125 812.651 44.5569 808.64 Q41.5014 804.598 41.5014 796.609 L41.5014 788.397 L40.9285 788.397 Q36.8862 788.397 34.6901 791.071 Q32.4621 793.713 32.4621 798.519 Q32.4621 801.574 33.1941 804.471 Q33.9262 807.367 35.3903 810.041 L29.9795 810.041 Q28.7381 806.826 28.1334 803.802 Q27.4968 800.779 27.4968 797.914 Q27.4968 790.18 31.5072 786.36 Q35.5176 782.541 43.6657 782.541 Z\" fill=\"#000000\" fill-rule=\"nonzero\" fill-opacity=\"1\" /><path clip-path=\"url(#clip310)\" d=\"M18.2347 764.685 L28.3562 764.685 L28.3562 752.622 L32.9077 752.622 L32.9077 764.685 L52.2594 764.685 Q56.6199 764.685 57.8613 763.508 Q59.1026 762.298 59.1026 758.638 L59.1026 752.622 L64.0042 752.622 L64.0042 758.638 Q64.0042 765.417 61.4897 767.995 Q58.9434 770.573 52.2594 770.573 L32.9077 770.573 L32.9077 774.87 L28.3562 774.87 L28.3562 770.573 L18.2347 770.573 L18.2347 764.685 Z\" fill=\"#000000\" fill-rule=\"nonzero\" fill-opacity=\"1\" /><path clip-path=\"url(#clip310)\" d=\"M28.3562 744.92 L28.3562 739.063 L64.0042 739.063 L64.0042 744.92 L28.3562 744.92 M14.479 744.92 L14.479 739.063 L21.895 739.063 L21.895 744.92 L14.479 744.92 Z\" fill=\"#000000\" fill-rule=\"nonzero\" fill-opacity=\"1\" /><path clip-path=\"url(#clip310)\" d=\"M32.4621 712.996 Q32.4621 717.706 36.1542 720.444 Q39.8145 723.181 46.212 723.181 Q52.6095 723.181 56.3017 720.475 Q59.9619 717.738 59.9619 712.996 Q59.9619 708.317 56.2698 705.58 Q52.5777 702.842 46.212 702.842 Q39.8781 702.842 36.186 705.58 Q32.4621 708.317 32.4621 712.996 M27.4968 712.996 Q27.4968 705.357 32.4621 700.996 Q37.4273 696.636 46.212 696.636 Q54.9649 696.636 59.9619 700.996 Q64.9272 705.357 64.9272 712.996 Q64.9272 720.666 59.9619 725.027 Q54.9649 729.356 46.212 729.356 Q37.4273 729.356 32.4621 725.027 Q27.4968 720.666 27.4968 712.996 Z\" fill=\"#000000\" fill-rule=\"nonzero\" fill-opacity=\"1\" /><path clip-path=\"url(#clip310)\" d=\"M42.4881 657.296 L64.0042 657.296 L64.0042 663.152 L42.679 663.152 Q37.6183 663.152 35.1038 665.126 Q32.5894 667.099 32.5894 671.046 Q32.5894 675.788 35.6131 678.525 Q38.6368 681.263 43.8567 681.263 L64.0042 681.263 L64.0042 687.151 L28.3562 687.151 L28.3562 681.263 L33.8944 681.263 Q30.6797 679.162 29.0883 676.329 Q27.4968 673.465 27.4968 669.741 Q27.4968 663.598 31.3163 660.447 Q35.1038 657.296 42.4881 657.296 Z\" fill=\"#000000\" fill-rule=\"nonzero\" fill-opacity=\"1\" /><path clip-path=\"url(#clip310)\" d=\"M14.5426 610.826 Q21.8632 615.091 29.0246 617.16 Q36.186 619.229 43.5384 619.229 Q50.8908 619.229 58.1159 617.16 Q65.3091 615.059 72.5979 610.826 L72.5979 615.919 Q65.1182 620.693 57.8931 623.08 Q50.668 625.435 43.5384 625.435 Q36.4406 625.435 29.2474 623.08 Q22.0542 620.725 14.5426 615.919 L14.5426 610.826 Z\" fill=\"#000000\" fill-rule=\"nonzero\" fill-opacity=\"1\" /><path clip-path=\"url(#clip310)\" d=\"M35.1993 571.709 Q31.2526 569.513 29.3747 566.457 Q27.4968 563.402 27.4968 559.264 Q27.4968 553.694 31.4117 550.67 Q35.2948 547.646 42.4881 547.646 L64.0042 547.646 L64.0042 553.535 L42.679 553.535 Q37.5546 553.535 35.072 555.349 Q32.5894 557.163 32.5894 560.887 Q32.5894 565.439 35.6131 568.08 Q38.6368 570.722 43.8567 570.722 L64.0042 570.722 L64.0042 576.61 L42.679 576.61 Q37.5228 576.61 35.072 578.425 Q32.5894 580.239 32.5894 584.026 Q32.5894 588.514 35.6449 591.156 Q38.6686 593.798 43.8567 593.798 L64.0042 593.798 L64.0042 599.686 L28.3562 599.686 L28.3562 593.798 L33.8944 593.798 Q30.616 591.793 29.0564 588.992 Q27.4968 586.191 27.4968 582.34 Q27.4968 578.456 29.4702 575.751 Q31.4436 573.014 35.1993 571.709 Z\" fill=\"#000000\" fill-rule=\"nonzero\" fill-opacity=\"1\" /><path clip-path=\"url(#clip310)\" d=\"M14.5426 536.888 L14.5426 531.796 Q22.0542 527.022 29.2474 524.666 Q36.4406 522.279 43.5384 522.279 Q50.668 522.279 57.8931 524.666 Q65.1182 527.022 72.5979 531.796 L72.5979 536.888 Q65.3091 532.655 58.1159 530.586 Q50.8908 528.486 43.5384 528.486 Q36.186 528.486 29.0246 530.586 Q21.8632 532.655 14.5426 536.888 Z\" fill=\"#000000\" fill-rule=\"nonzero\" fill-opacity=\"1\" /><polyline clip-path=\"url(#clip312)\" style=\"stroke:#009af9; stroke-linecap:round; stroke-linejoin:round; stroke-width:4; stroke-opacity:1; fill:none\" points=\"271.594,1384.24 271.943,1379.05 271.959,1373.85 272.019,1368.66 272.019,1363.47 272.019,1358.28 272.019,1353.09 272.035,1347.89 272.035,1342.7 272.065,1337.51 272.095,1332.32 272.111,1327.12 272.126,1321.93 272.141,1316.74 272.141,1311.55 272.141,1306.36 272.141,1301.16 272.156,1295.97 272.156,1290.78 272.187,1285.59 272.232,1280.39 272.293,1275.2 272.323,1270.01 272.369,1264.82 272.445,1259.63 272.475,1254.43 272.475,1249.24 272.536,1244.05 272.551,1238.86 272.567,1233.66 272.612,1228.47 272.658,1223.28 272.749,1218.09 272.81,1212.9 272.916,1207.7 272.977,1202.51 273.114,1197.32 273.19,1192.13 273.342,1186.93 273.448,1181.74 273.57,1176.55 273.782,1171.36 274.01,1166.17 274.086,1160.97 274.36,1155.78 274.74,1150.59 274.968,1145.4 275.256,1140.2 275.712,1135.01 276.199,1129.82 276.761,1124.63 277.825,1119.44 279.192,1114.24 281,1109.05 282.581,1103.86 284.207,1098.67 285.985,1093.47 287.854,1088.28 289.48,1083.09 291.713,1077.9 294.737,1072.71 297.943,1067.51 301.148,1062.32 304.78,1057.13 308.898,1051.94 313.137,1046.74 318.242,1041.55 324.016,1036.36 329.866,1031.17 335.564,1025.98 341.824,1020.78 347.689,1015.59 353.798,1010.4 360.666,1005.21 367.428,1000.01 375.437,994.822 384.023,989.63 391.44,984.438 400.285,979.246 408.218,974.054 416.652,968.861 424.038,963.669 432.64,958.477 442.717,953.285 450.68,948.093 459.039,942.9 467.46,937.708 475.287,932.516 482.977,927.324 490.12,922.132 497.962,916.939 507.294,911.747 517.083,906.555 524.834,901.363 532.175,896.17 540.093,890.978 548.088,885.786 556.006,880.594 563.955,875.402 570.991,870.209 578.986,865.017 587.482,859.825 595.947,854.633 606.069,849.441 614.914,844.248 623.425,839.056 631.557,833.864 639.9,828.672 648.198,823.48 656.101,818.287 665.037,813.095 674.611,807.903 685.248,802.711 695.945,797.518 706.097,792.326 715.323,787.134 724.441,781.942 734.259,776.75 743.879,771.557 753.058,766.365 762.785,761.173 772.709,755.981 782.8,750.789 793.044,745.596 804.123,740.404 815.415,735.212 826.129,730.02 836.616,724.828 847.224,719.635 857.498,714.443 868.059,709.251 878.788,704.059 890.458,698.867 901.386,693.674 911.752,688.482 922.452,683.29 933.395,678.098 943.214,672.905 953.276,667.713 963.946,662.521 973.886,657.329 983.387,652.137 992.75,646.944 1003.09,641.752 1013.04,636.56 1023.38,631.368 1033.99,626.176 1044.36,620.983 1055.16,615.791 1064.88,610.599 1075.34,605.407 1086.12,600.214 1097.12,595.022 1106.85,589.83 1116.64,584.638 1126.76,579.446 1136.87,574.253 1148.78,569.061 1158.65,563.869 1169.41,558.677 1180.11,553.485 1190.71,548.292 1201.2,543.1 1211.32,537.908 1222.1,532.716 1232.97,527.524 1244.1,522.331 1255.29,517.139 1267.76,511.947 1280.18,506.755 1292.45,501.563 1304,496.37 1317.39,491.178 1328.71,485.986 1339.4,480.794 1350.18,475.601 1360.99,470.409 1372.04,465.217 1387.85,460.025 1399.61,454.833 1410.68,449.64 1420.83,444.448 1431.42,439.256 1441.52,434.064 1451.1,428.872 1462.12,423.679 1472.46,418.487 1484.16,413.295 1496.45,408.103 1516.08,402.911 1526.69,397.718 1537.38,392.526 1548.66,387.334 1562.82,382.142 1574.55,376.949 1586.64,371.757 1597.84,366.565 1610.88,361.373 1624.36,356.181 1637.38,350.988 1649.88,345.796 1661.94,340.604 1675.25,335.412 1687.58,330.22 1700.65,325.027 1713.64,319.835 1725.73,314.643 1737.45,309.451 1749.79,304.258 1763.44,299.066 1777.8,293.874 1789.4,288.682 1801,283.49 1812.92,278.297 1826.11,273.105 1838.57,267.913 1851.57,262.721 1864.04,257.529 1876.55,252.336 1889.34,247.144 1902.77,241.952 1916.18,236.76 1929.63,231.568 1942.33,226.375 1954.68,221.183 1966.53,215.991 1978.35,210.799 1990.1,205.606 2005.62,200.414 2027.38,195.222 2042.63,190.03 2055.95,184.838 2069.71,179.645 2082.55,174.453 2096.01,169.261 2108.29,164.069 2120.61,158.877 2132.6,153.684 2145.13,148.492 2164.63,143.3 2176.64,138.108 2188.93,132.916 2201.97,127.723 2214.16,122.531 2226.73,117.339 2238.12,112.147 2249.18,106.954 2259.6,101.762 2269.26,96.5701 2280.82,91.3779 2292.14,86.1857 \"/>\n",
       "<path clip-path=\"url(#clip310)\" d=\"M282.37 196.789 L548.978 196.789 L548.978 93.1086 L282.37 93.1086  Z\" fill=\"#ffffff\" fill-rule=\"evenodd\" fill-opacity=\"1\"/>\n",
       "<polyline clip-path=\"url(#clip310)\" style=\"stroke:#000000; stroke-linecap:round; stroke-linejoin:round; stroke-width:4; stroke-opacity:1; fill:none\" points=\"282.37,196.789 548.978,196.789 548.978,93.1086 282.37,93.1086 282.37,196.789 \"/>\n",
       "<polyline clip-path=\"url(#clip310)\" style=\"stroke:#009af9; stroke-linecap:round; stroke-linejoin:round; stroke-width:4; stroke-opacity:1; fill:none\" points=\"306.168,144.949 448.953,144.949 \"/>\n",
       "<path clip-path=\"url(#clip310)\" d=\"M486.593 164.636 Q484.787 169.266 483.074 170.678 Q481.361 172.09 478.491 172.09 L475.088 172.09 L475.088 168.525 L477.588 168.525 Q479.348 168.525 480.32 167.692 Q481.292 166.858 482.473 163.756 L483.236 161.812 L472.75 136.303 L477.264 136.303 L485.366 156.581 L493.468 136.303 L497.982 136.303 L486.593 164.636 Z\" fill=\"#000000\" fill-rule=\"nonzero\" fill-opacity=\"1\" /><path clip-path=\"url(#clip310)\" d=\"M505.273 158.293 L512.912 158.293 L512.912 131.928 L504.602 133.595 L504.602 129.335 L512.866 127.669 L517.542 127.669 L517.542 158.293 L525.181 158.293 L525.181 162.229 L505.273 162.229 L505.273 158.293 Z\" fill=\"#000000\" fill-rule=\"nonzero\" fill-opacity=\"1\" /></svg>\n"
      ]
     },
     "metadata": {},
     "output_type": "display_data"
    }
   ],
   "source": [
    "plot(london)"
   ]
  },
  {
   "cell_type": "markdown",
   "metadata": {},
   "source": [
    "Get exposure of poeple and assets in this floodplain using a bathtub model"
   ]
  },
  {
   "cell_type": "code",
   "execution_count": 54,
   "metadata": {},
   "outputs": [
    {
     "name": "stdout",
     "output_type": "stream",
     "text": [
      "Exposure (people) below 5 m: 253533.53\n",
      "Exposure (assets) below 5 m: 3.5214684e10\n"
     ]
    }
   ],
   "source": [
    "println(\"Exposure (people) below 5 m: $(exposure_below_bathtub(london,5.0)[3][1])\")\n",
    "println(\"Exposure (assets) below 5 m: $(exposure_below_bathtub(london,5.0)[3][2])\")"
   ]
  },
  {
   "cell_type": "markdown",
   "metadata": {},
   "source": [
    "Do a little exposure/damage calculation for different water-levels. What do we notice?"
   ]
  },
  {
   "cell_type": "code",
   "execution_count": 7,
   "metadata": {},
   "outputs": [
    {
     "name": "stdout",
     "output_type": "stream",
     "text": [
      "damage:\n"
     ]
    },
    {
     "ename": "UndefVarError",
     "evalue": "UndefVarError: `exposure` not defined in `Main`\nSuggestion: check for spelling errors or missing imports.",
     "output_type": "error",
     "traceback": [
      "UndefVarError: `exposure` not defined in `Main`\n",
      "Suggestion: check for spelling errors or missing imports.\n",
      "\n",
      "Stacktrace:\n",
      " [1] top-level scope\n",
      "   @ c:\\Users\\voelz\\Documents\\DIVA\\DIVACoast\\test\\jl_notebook_cell_df34fa98e69747e1a8f8a730347b8e2f_X15sZmlsZQ==.jl:4"
     ]
    }
   ],
   "source": [
    "#damage_bathtub_standard_ddf(hp, x, 0f0, Vector{Float32}(), [1f0])\n",
    "println(\"damage:\")\n",
    "for wl in 0.00f0:0.25f0:5.00f0\n",
    "  expo = exposure(south_london, wl)\n",
    "  dam  = damage_bathtub_standard_ddf(south_london, wl, 0f0, [], [0f0,1f0])\n",
    "  println(\"waterlevel $wl m\\t:  exposure = $expo; \\t damage = $dam\")\n",
    "end\n"
   ]
  },
  {
   "cell_type": "markdown",
   "metadata": {},
   "source": [
    "Compare different damage calculations"
   ]
  },
  {
   "cell_type": "code",
   "execution_count": 8,
   "metadata": {},
   "outputs": [
    {
     "name": "stdout",
     "output_type": "stream",
     "text": [
      "Fast calculation (8m flood): damage_standard_ddf(south_london, 3.0, 0f0, [], [0f0,1f0]) = \n"
     ]
    },
    {
     "ename": "UndefVarError",
     "evalue": "UndefVarError: `damage_standard_ddf` not defined in `Main`\nSuggestion: check for spelling errors or missing imports.",
     "output_type": "error",
     "traceback": [
      "UndefVarError: `damage_standard_ddf` not defined in `Main`\n",
      "Suggestion: check for spelling errors or missing imports.\n",
      "\n",
      "Stacktrace:\n",
      " [1] macro expansion\n",
      "   @ .\\timing.jl:581 [inlined]\n",
      " [2] top-level scope\n",
      "   @ c:\\Users\\voelz\\Documents\\DIVA\\DIVACoast\\test\\jl_notebook_cell_df34fa98e69747e1a8f8a730347b8e2f_X20sZmlsZQ==.jl:2"
     ]
    }
   ],
   "source": [
    "println(\"Fast calculation (8m flood): damage_standard_ddf(south_london, 3.0, 0f0, [], [0f0,1f0]) = \")\n",
    "@time dam = damage_standard_ddf(south_london, 8.0, 0f0, [], [0f0,1f0])\n",
    "@time dam = damage_standard_ddf(south_london, 8.0, 0f0, [], [0f0,1f0])\n",
    "println(dam)\n"
   ]
  },
  {
   "cell_type": "markdown",
   "metadata": {},
   "source": [
    "We now define the depth-damage functions (ddf's) explicitly with parameter $h$\n",
    "\n",
    "$ddf(h)=: f(d)= \\frac{d}{d+h}$"
   ]
  },
  {
   "cell_type": "code",
   "execution_count": 9,
   "metadata": {},
   "outputs": [
    {
     "data": {
      "text/plain": [
       "ddf (generic function with 1 method)"
      ]
     },
     "metadata": {},
     "output_type": "display_data"
    }
   ],
   "source": [
    "ddf0(d :: Float32) = 1f0\n",
    "\n",
    "ddf(h :: Float32) = function(d :: Float32);\n",
    "  return (d / (d+h))\n",
    "end"
   ]
  },
  {
   "cell_type": "markdown",
   "metadata": {},
   "source": [
    "These calls should lead to the same results as the ones above - but with slightly slower computation times"
   ]
  },
  {
   "cell_type": "code",
   "execution_count": 10,
   "metadata": {},
   "outputs": [
    {
     "name": "stdout",
     "output_type": "stream",
     "text": [
      "Slower calculation (8m flood): damage(south_london, 8.0, ddf0, [], [ddf0,ddf(1.0f0)]) = \n"
     ]
    },
    {
     "ename": "UndefVarError",
     "evalue": "UndefVarError: `damage` not defined in `Main`\nSuggestion: check for spelling errors or missing imports.",
     "output_type": "error",
     "traceback": [
      "UndefVarError: `damage` not defined in `Main`\n",
      "Suggestion: check for spelling errors or missing imports.\n",
      "\n",
      "Stacktrace:\n",
      " [1] macro expansion\n",
      "   @ .\\timing.jl:581 [inlined]\n",
      " [2] top-level scope\n",
      "   @ c:\\Users\\voelz\\Documents\\DIVA\\DIVACoast\\test\\jl_notebook_cell_df34fa98e69747e1a8f8a730347b8e2f_X24sZmlsZQ==.jl:2"
     ]
    }
   ],
   "source": [
    "println(\"Slower calculation (8m flood): damage(south_london, 8.0, ddf0, [], [ddf0,ddf(1.0f0)]) = \")\n",
    "@time dam = damage(south_london, 3.0, ddf0, [], [ddf0,ddf(1.0f0)])\n",
    "@time dam = damage(south_london, 3.0, ddf0, [], [ddf0,ddf(1.0f0)])\n",
    "println(dam)"
   ]
  },
  {
   "cell_type": "code",
   "execution_count": 11,
   "metadata": {},
   "outputs": [],
   "source": [
    "#do expected damages? but with what GEV/GPD function?"
   ]
  },
  {
   "cell_type": "markdown",
   "metadata": {},
   "source": [
    "Now we test to compute damages for all floodplains in the UK and IRL (8.0m flood everywhere)"
   ]
  },
  {
   "cell_type": "markdown",
   "metadata": {},
   "source": [
    "we define a helper function that does the accumulation\n",
    "\n",
    "$f(hspfs,wl,..)= \\sum_{hspfs} $ damage_standard_ddf $ (hspf,wl,..)$"
   ]
  },
  {
   "cell_type": "code",
   "execution_count": 12,
   "metadata": {},
   "outputs": [
    {
     "data": {
      "text/plain": [
       "damage_all_fp (generic function with 1 method)"
      ]
     },
     "metadata": {},
     "output_type": "display_data"
    }
   ],
   "source": [
    "function damage_all_fp(hspfs, wl, hdd_area, hdds_static, hdds_dynamic) \n",
    "    r = 0.0f0\n",
    "    for (fpid, hspf) in hspfs\n",
    "      r += damage_standard_ddf(hspf, wl, hdd_area, hdds_static, hdds_dynamic)[3][2]\n",
    "    end\n",
    "    return r\n",
    "  end  "
   ]
  },
  {
   "cell_type": "markdown",
   "metadata": {},
   "source": [
    "All the computation below should come up with the same result (except from liitle numerical differences)"
   ]
  },
  {
   "cell_type": "code",
   "execution_count": 13,
   "metadata": {},
   "outputs": [
    {
     "name": "stdout",
     "output_type": "stream",
     "text": [
      "8m flood everywhere, fast computation\n"
     ]
    },
    {
     "ename": "UndefVarError",
     "evalue": "UndefVarError: `damage_standard_ddf` not defined in `Main`\nSuggestion: check for spelling errors or missing imports.",
     "output_type": "error",
     "traceback": [
      "UndefVarError: `damage_standard_ddf` not defined in `Main`\n",
      "Suggestion: check for spelling errors or missing imports.\n",
      "\n",
      "Stacktrace:\n",
      " [1] (::var\"#13#14\")(x::Int32)\n",
      "   @ Main c:\\Users\\voelz\\Documents\\DIVA\\DIVACoast\\test\\jl_notebook_cell_df34fa98e69747e1a8f8a730347b8e2f_X33sZmlsZQ==.jl:2\n",
      " [2] iterate\n",
      "   @ .\\generator.jl:48 [inlined]\n",
      " [3] _collect(c::Vector{Int32}, itr::Base.Generator{Vector{Int32}, var\"#13#14\"}, ::Base.EltypeUnknown, isz::Base.HasShape{1})\n",
      "   @ Base .\\array.jl:811\n",
      " [4] collect_similar(cont::Vector{Int32}, itr::Base.Generator{Vector{Int32}, var\"#13#14\"})\n",
      "   @ Base .\\array.jl:720\n",
      " [5] map(f::Function, A::Vector{Int32})\n",
      "   @ Base .\\abstractarray.jl:3371\n",
      " [6] macro expansion\n",
      "   @ .\\timing.jl:581 [inlined]\n",
      " [7] top-level scope\n",
      "   @ c:\\Users\\voelz\\Documents\\DIVA\\DIVACoast\\test\\jl_notebook_cell_df34fa98e69747e1a8f8a730347b8e2f_X33sZmlsZQ==.jl:2"
     ]
    }
   ],
   "source": [
    "println(\"8m flood everywhere, fast computation\")\n",
    "@time dam=sum(map(x -> damage_standard_ddf(hspfs[x], 8.0, 0f0, [], [0f0,1f0])[3][2], collect(keys(hspfs))))\n",
    "@time dam=sum(map(x -> damage_standard_ddf(hspfs[x], 8.0, 0f0, [], [0f0,1f0])[3][2], collect(keys(hspfs))))\n",
    "println(dam)"
   ]
  },
  {
   "cell_type": "code",
   "execution_count": 14,
   "metadata": {},
   "outputs": [
    {
     "name": "stdout",
     "output_type": "stream",
     "text": [
      "8m flood everywhere, faster computation\n"
     ]
    },
    {
     "ename": "UndefVarError",
     "evalue": "UndefVarError: `damage_standard_ddf` not defined in `Main`\nSuggestion: check for spelling errors or missing imports.",
     "output_type": "error",
     "traceback": [
      "UndefVarError: `damage_standard_ddf` not defined in `Main`\n",
      "Suggestion: check for spelling errors or missing imports.\n",
      "\n",
      "Stacktrace:\n",
      " [1] damage_all_fp(hspfs::Dict{Int32, HypsometricProfile{Float32}}, wl::Float64, hdd_area::Float32, hdds_static::Vector{Any}, hdds_dynamic::Vector{Float32})\n",
      "   @ Main c:\\Users\\voelz\\Documents\\DIVA\\DIVACoast\\test\\jl_notebook_cell_df34fa98e69747e1a8f8a730347b8e2f_X31sZmlsZQ==.jl:4\n",
      " [2] macro expansion\n",
      "   @ .\\timing.jl:581 [inlined]\n",
      " [3] top-level scope\n",
      "   @ c:\\Users\\voelz\\Documents\\DIVA\\DIVACoast\\test\\jl_notebook_cell_df34fa98e69747e1a8f8a730347b8e2f_X34sZmlsZQ==.jl:2"
     ]
    }
   ],
   "source": [
    "println(\"8m flood everywhere, faster computation\")\n",
    "@time dam=damage_all_fp(hspfs, 8.0, 0f0, [], [0f0,1f0])\n",
    "@time dam=damage_all_fp(hspfs, 8.0, 0f0, [], [0f0,1f0])\n",
    "println(dam)"
   ]
  }
 ],
 "metadata": {
  "kernelspec": {
   "display_name": "Julia 1.11.3",
   "language": "julia",
   "name": "julia-1.11"
  },
  "language_info": {
   "file_extension": ".jl",
   "mimetype": "application/julia",
   "name": "julia",
   "version": "1.11.3"
  }
 },
 "nbformat": 4,
 "nbformat_minor": 2
}
